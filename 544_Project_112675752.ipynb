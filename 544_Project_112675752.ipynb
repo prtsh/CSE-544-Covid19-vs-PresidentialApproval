{
  "nbformat": 4,
  "nbformat_minor": 0,
  "metadata": {
    "colab": {
      "name": "544-Project-112675752",
      "provenance": [],
      "collapsed_sections": []
    },
    "kernelspec": {
      "name": "python3",
      "display_name": "Python 3"
    }
  },
  "cells": [
    {
      "cell_type": "markdown",
      "metadata": {
        "id": "EmuHbig8LEM8",
        "colab_type": "text"
      },
      "source": [
        "## **Imports Everything.**"
      ]
    },
    {
      "cell_type": "code",
      "metadata": {
        "id": "3Tc-iQYALNBP",
        "colab_type": "code",
        "colab": {}
      },
      "source": [
        "import sys\n",
        "import os\n",
        "import numpy as np\n",
        "import random\n",
        "import matplotlib\n",
        "import matplotlib.pyplot as plt\n",
        "%matplotlib inline\n",
        "import math\n",
        "import glob\n",
        "import io\n",
        "import base64\n",
        "from numpy import ma\n",
        "import pandas as pd\n",
        "from scipy import special\n",
        "from datetime import datetime\n",
        "from scipy.stats import binom\n",
        "from scipy.stats import geom\n",
        "from scipy.stats import poisson\n",
        "from scipy import stats\n",
        "from scipy.fftpack import fft, rfft,ifft\n",
        "from scipy import fftpack\n",
        "import statistics"
      ],
      "execution_count": 0,
      "outputs": []
    },
    {
      "cell_type": "markdown",
      "metadata": {
        "id": "dNL5lFpBNmgt",
        "colab_type": "text"
      },
      "source": [
        "## **Load All Files**"
      ]
    },
    {
      "cell_type": "code",
      "metadata": {
        "id": "KczsJ6ocNlsR",
        "colab_type": "code",
        "colab": {}
      },
      "source": [
        "#Github URL for the raw data files\n",
        "pdX_url = \"https://raw.githubusercontent.com/prtsh/CSE-544-Covid19-vs-PresidentialApproval/master/CleanedData-Plots/approval_topline-allpolls.csv\"\n",
        "pdCovid_url = \"https://raw.githubusercontent.com/prtsh/CSE-544-Covid19-vs-PresidentialApproval/master/CleanedData-Plots/us.csv\""
      ],
      "execution_count": 0,
      "outputs": []
    },
    {
      "cell_type": "code",
      "metadata": {
        "id": "Up6EMgVBIruL",
        "colab_type": "code",
        "outputId": "9fc2e057-62d3-46da-8611-bc24a14c370b",
        "colab": {
          "base_uri": "https://localhost:8080/",
          "height": 204
        }
      },
      "source": [
        "\n",
        "#Load Panda dataframes\n",
        "dfX = pd.read_csv(pdX_url, sep=',', error_bad_lines=True) #X dataframe, topline approval rating, all polls\n",
        "dfCovid = pd.read_csv(pdCovid_url, sep=',',error_bad_lines=True) #Covid 19 USA dataframe\n",
        "dfCovidCDF = dfCovid.copy()\n",
        "dfCovid.head(); dfX.head()"
      ],
      "execution_count": 498,
      "outputs": [
        {
          "output_type": "execute_result",
          "data": {
            "text/html": [
              "<div>\n",
              "<style scoped>\n",
              "    .dataframe tbody tr th:only-of-type {\n",
              "        vertical-align: middle;\n",
              "    }\n",
              "\n",
              "    .dataframe tbody tr th {\n",
              "        vertical-align: top;\n",
              "    }\n",
              "\n",
              "    .dataframe thead th {\n",
              "        text-align: right;\n",
              "    }\n",
              "</style>\n",
              "<table border=\"1\" class=\"dataframe\">\n",
              "  <thead>\n",
              "    <tr style=\"text-align: right;\">\n",
              "      <th></th>\n",
              "      <th>president</th>\n",
              "      <th>subgroup</th>\n",
              "      <th>modeldate</th>\n",
              "      <th>approve_estimate</th>\n",
              "      <th>approve_hi</th>\n",
              "      <th>approve_lo</th>\n",
              "      <th>disapprove_estimate</th>\n",
              "      <th>disapprove_hi</th>\n",
              "      <th>disapprove_lo</th>\n",
              "      <th>timestamp</th>\n",
              "    </tr>\n",
              "  </thead>\n",
              "  <tbody>\n",
              "    <tr>\n",
              "      <th>0</th>\n",
              "      <td>Donald Trump</td>\n",
              "      <td>All polls</td>\n",
              "      <td>4/30/20</td>\n",
              "      <td>42.921096</td>\n",
              "      <td>46.798932</td>\n",
              "      <td>39.043261</td>\n",
              "      <td>52.389264</td>\n",
              "      <td>56.547651</td>\n",
              "      <td>48.230876</td>\n",
              "      <td>4/30/20 15:43</td>\n",
              "    </tr>\n",
              "    <tr>\n",
              "      <th>1</th>\n",
              "      <td>Donald Trump</td>\n",
              "      <td>All polls</td>\n",
              "      <td>4/29/20</td>\n",
              "      <td>42.563159</td>\n",
              "      <td>46.281516</td>\n",
              "      <td>38.844803</td>\n",
              "      <td>52.668005</td>\n",
              "      <td>56.718638</td>\n",
              "      <td>48.617373</td>\n",
              "      <td>4/29/20 17:41</td>\n",
              "    </tr>\n",
              "    <tr>\n",
              "      <th>2</th>\n",
              "      <td>Donald Trump</td>\n",
              "      <td>All polls</td>\n",
              "      <td>4/28/20</td>\n",
              "      <td>42.599133</td>\n",
              "      <td>46.328493</td>\n",
              "      <td>38.869772</td>\n",
              "      <td>52.571193</td>\n",
              "      <td>56.717958</td>\n",
              "      <td>48.424429</td>\n",
              "      <td>4/28/20 23:02</td>\n",
              "    </tr>\n",
              "    <tr>\n",
              "      <th>3</th>\n",
              "      <td>Donald Trump</td>\n",
              "      <td>All polls</td>\n",
              "      <td>4/27/20</td>\n",
              "      <td>43.258787</td>\n",
              "      <td>47.066718</td>\n",
              "      <td>39.450856</td>\n",
              "      <td>52.579022</td>\n",
              "      <td>56.931583</td>\n",
              "      <td>48.226462</td>\n",
              "      <td>4/27/20 15:23</td>\n",
              "    </tr>\n",
              "    <tr>\n",
              "      <th>4</th>\n",
              "      <td>Donald Trump</td>\n",
              "      <td>All polls</td>\n",
              "      <td>4/26/20</td>\n",
              "      <td>43.428729</td>\n",
              "      <td>47.251167</td>\n",
              "      <td>39.606291</td>\n",
              "      <td>52.447502</td>\n",
              "      <td>56.861902</td>\n",
              "      <td>48.033102</td>\n",
              "      <td>4/27/20 8:11</td>\n",
              "    </tr>\n",
              "  </tbody>\n",
              "</table>\n",
              "</div>"
            ],
            "text/plain": [
              "      president   subgroup  ... disapprove_lo      timestamp\n",
              "0  Donald Trump  All polls  ...     48.230876  4/30/20 15:43\n",
              "1  Donald Trump  All polls  ...     48.617373  4/29/20 17:41\n",
              "2  Donald Trump  All polls  ...     48.424429  4/28/20 23:02\n",
              "3  Donald Trump  All polls  ...     48.226462  4/27/20 15:23\n",
              "4  Donald Trump  All polls  ...     48.033102   4/27/20 8:11\n",
              "\n",
              "[5 rows x 10 columns]"
            ]
          },
          "metadata": {
            "tags": []
          },
          "execution_count": 498
        }
      ]
    },
    {
      "cell_type": "markdown",
      "metadata": {
        "id": "t-IPHOwLxME9",
        "colab_type": "text"
      },
      "source": [
        ""
      ]
    },
    {
      "cell_type": "code",
      "metadata": {
        "id": "QY3TkGlYRm6y",
        "colab_type": "code",
        "outputId": "7d9e85b2-080d-4a69-d4a8-f73b3050f137",
        "colab": {
          "base_uri": "https://localhost:8080/",
          "height": 204
        }
      },
      "source": [
        "dfCovid.tail()"
      ],
      "execution_count": 499,
      "outputs": [
        {
          "output_type": "execute_result",
          "data": {
            "text/html": [
              "<div>\n",
              "<style scoped>\n",
              "    .dataframe tbody tr th:only-of-type {\n",
              "        vertical-align: middle;\n",
              "    }\n",
              "\n",
              "    .dataframe tbody tr th {\n",
              "        vertical-align: top;\n",
              "    }\n",
              "\n",
              "    .dataframe thead th {\n",
              "        text-align: right;\n",
              "    }\n",
              "</style>\n",
              "<table border=\"1\" class=\"dataframe\">\n",
              "  <thead>\n",
              "    <tr style=\"text-align: right;\">\n",
              "      <th></th>\n",
              "      <th>date</th>\n",
              "      <th>cases</th>\n",
              "      <th>deaths</th>\n",
              "    </tr>\n",
              "  </thead>\n",
              "  <tbody>\n",
              "    <tr>\n",
              "      <th>96</th>\n",
              "      <td>4/26/20</td>\n",
              "      <td>965214</td>\n",
              "      <td>49464</td>\n",
              "    </tr>\n",
              "    <tr>\n",
              "      <th>97</th>\n",
              "      <td>4/27/20</td>\n",
              "      <td>988250</td>\n",
              "      <td>50819</td>\n",
              "    </tr>\n",
              "    <tr>\n",
              "      <th>98</th>\n",
              "      <td>4/28/20</td>\n",
              "      <td>1012683</td>\n",
              "      <td>53034</td>\n",
              "    </tr>\n",
              "    <tr>\n",
              "      <th>99</th>\n",
              "      <td>4/29/20</td>\n",
              "      <td>1039318</td>\n",
              "      <td>55399</td>\n",
              "    </tr>\n",
              "    <tr>\n",
              "      <th>100</th>\n",
              "      <td>4/30/20</td>\n",
              "      <td>1069722</td>\n",
              "      <td>57570</td>\n",
              "    </tr>\n",
              "  </tbody>\n",
              "</table>\n",
              "</div>"
            ],
            "text/plain": [
              "        date    cases  deaths\n",
              "96   4/26/20   965214   49464\n",
              "97   4/27/20   988250   50819\n",
              "98   4/28/20  1012683   53034\n",
              "99   4/29/20  1039318   55399\n",
              "100  4/30/20  1069722   57570"
            ]
          },
          "metadata": {
            "tags": []
          },
          "execution_count": 499
        }
      ]
    },
    {
      "cell_type": "code",
      "metadata": {
        "id": "6ZfMg-FhFDpI",
        "colab_type": "code",
        "outputId": "552daaef-fa91-432d-cf30-7d1aacb9ae37",
        "colab": {
          "base_uri": "https://localhost:8080/",
          "height": 204
        }
      },
      "source": [
        "#CDF to PDF for the Cofid 19 Death# and Cases# data, daily deaths and daily cases\n",
        "dfCovid = dfCovid.drop(dfCovid.columns[[0]], axis = 1)\n",
        "dfCovid = dfCovid.diff(axis = 0, periods=1);\n",
        "dfCovid.tail()"
      ],
      "execution_count": 500,
      "outputs": [
        {
          "output_type": "execute_result",
          "data": {
            "text/html": [
              "<div>\n",
              "<style scoped>\n",
              "    .dataframe tbody tr th:only-of-type {\n",
              "        vertical-align: middle;\n",
              "    }\n",
              "\n",
              "    .dataframe tbody tr th {\n",
              "        vertical-align: top;\n",
              "    }\n",
              "\n",
              "    .dataframe thead th {\n",
              "        text-align: right;\n",
              "    }\n",
              "</style>\n",
              "<table border=\"1\" class=\"dataframe\">\n",
              "  <thead>\n",
              "    <tr style=\"text-align: right;\">\n",
              "      <th></th>\n",
              "      <th>cases</th>\n",
              "      <th>deaths</th>\n",
              "    </tr>\n",
              "  </thead>\n",
              "  <tbody>\n",
              "    <tr>\n",
              "      <th>96</th>\n",
              "      <td>26464.0</td>\n",
              "      <td>1139.0</td>\n",
              "    </tr>\n",
              "    <tr>\n",
              "      <th>97</th>\n",
              "      <td>23036.0</td>\n",
              "      <td>1355.0</td>\n",
              "    </tr>\n",
              "    <tr>\n",
              "      <th>98</th>\n",
              "      <td>24433.0</td>\n",
              "      <td>2215.0</td>\n",
              "    </tr>\n",
              "    <tr>\n",
              "      <th>99</th>\n",
              "      <td>26635.0</td>\n",
              "      <td>2365.0</td>\n",
              "    </tr>\n",
              "    <tr>\n",
              "      <th>100</th>\n",
              "      <td>30404.0</td>\n",
              "      <td>2171.0</td>\n",
              "    </tr>\n",
              "  </tbody>\n",
              "</table>\n",
              "</div>"
            ],
            "text/plain": [
              "       cases  deaths\n",
              "96   26464.0  1139.0\n",
              "97   23036.0  1355.0\n",
              "98   24433.0  2215.0\n",
              "99   26635.0  2365.0\n",
              "100  30404.0  2171.0"
            ]
          },
          "metadata": {
            "tags": []
          },
          "execution_count": 500
        }
      ]
    },
    {
      "cell_type": "code",
      "metadata": {
        "id": "jzQXMQ36WH8K",
        "colab_type": "code",
        "outputId": "3d95d8a7-1956-41d1-a31a-94f85d108736",
        "colab": {
          "base_uri": "https://localhost:8080/",
          "height": 282
        }
      },
      "source": [
        "dfCovid.dropna()\n",
        "dfCovid.plot()"
      ],
      "execution_count": 501,
      "outputs": [
        {
          "output_type": "execute_result",
          "data": {
            "text/plain": [
              "<matplotlib.axes._subplots.AxesSubplot at 0x7f5ffd8b0198>"
            ]
          },
          "metadata": {
            "tags": []
          },
          "execution_count": 501
        },
        {
          "output_type": "display_data",
          "data": {
            "image/png": "[encoded data removed]",
            "text/plain": [
              "<Figure size 432x288 with 1 Axes>"
            ]
          },
          "metadata": {
            "tags": [],
            "needs_background": "light"
          }
        }
      ]
    },
    {
      "cell_type": "code",
      "metadata": {
        "id": "85HjPa8-TjhR",
        "colab_type": "code",
        "outputId": "17a83c71-9933-49b3-854a-eaba642494e9",
        "colab": {
          "base_uri": "https://localhost:8080/",
          "height": 204
        }
      },
      "source": [
        "dfXClean = dfX.drop(dfX.columns[[0, 1, 2, 4, 5, 6, 7, 8, 9]], axis = 1)\n",
        "dfXClean[\"approve_estimate\"] = dfXClean[\"approve_estimate\"].values[::-1]\n",
        "dfXClean.head()\n"
      ],
      "execution_count": 502,
      "outputs": [
        {
          "output_type": "execute_result",
          "data": {
            "text/html": [
              "<div>\n",
              "<style scoped>\n",
              "    .dataframe tbody tr th:only-of-type {\n",
              "        vertical-align: middle;\n",
              "    }\n",
              "\n",
              "    .dataframe tbody tr th {\n",
              "        vertical-align: top;\n",
              "    }\n",
              "\n",
              "    .dataframe thead th {\n",
              "        text-align: right;\n",
              "    }\n",
              "</style>\n",
              "<table border=\"1\" class=\"dataframe\">\n",
              "  <thead>\n",
              "    <tr style=\"text-align: right;\">\n",
              "      <th></th>\n",
              "      <th>approve_estimate</th>\n",
              "    </tr>\n",
              "  </thead>\n",
              "  <tbody>\n",
              "    <tr>\n",
              "      <th>0</th>\n",
              "      <td>42.222053</td>\n",
              "    </tr>\n",
              "    <tr>\n",
              "      <th>1</th>\n",
              "      <td>41.909656</td>\n",
              "    </tr>\n",
              "    <tr>\n",
              "      <th>2</th>\n",
              "      <td>42.635503</td>\n",
              "    </tr>\n",
              "    <tr>\n",
              "      <th>3</th>\n",
              "      <td>43.016357</td>\n",
              "    </tr>\n",
              "    <tr>\n",
              "      <th>4</th>\n",
              "      <td>43.016357</td>\n",
              "    </tr>\n",
              "  </tbody>\n",
              "</table>\n",
              "</div>"
            ],
            "text/plain": [
              "   approve_estimate\n",
              "0         42.222053\n",
              "1         41.909656\n",
              "2         42.635503\n",
              "3         43.016357\n",
              "4         43.016357"
            ]
          },
          "metadata": {
            "tags": []
          },
          "execution_count": 502
        }
      ]
    },
    {
      "cell_type": "markdown",
      "metadata": {
        "id": "v-ZbtsbM7n9m",
        "colab_type": "text"
      },
      "source": [
        "## **Tasks**\n",
        "\n",
        "---\n",
        "\n"
      ]
    },
    {
      "cell_type": "markdown",
      "metadata": {
        "id": "7vZPzniG7oIC",
        "colab_type": "text"
      },
      "source": [
        "####**1. Data Cleaning and Outliers**\n",
        "\n",
        "---\n",
        "\n",
        "\n",
        "\n",
        "1. Missing values and sanitization\n",
        "From 21st Jan to 30 April we have 100 days of dataset, a manual inspection shows no null/invalid values. Dataframe load with error_bad_lines flag set true shows no load error(this flag catches invalid rows in the csv file)\n",
        "\n",
        "2. After running Tukey IQR outlier detection algorithm on the entire dataset (21 jan to 30th april) we couldn't find any outliers.\n",
        "\n",
        "it's observed that these data are at the top end of the exponential growth, in days close to/near the end of April. This could be explained away by the exponential growth of these curves and a very low (close to zero/single digit) value at the start of Feb/mid Feb. \n",
        "\n",
        "If we run the tukey 1.5 IQR rule on the last 60 days of data, we see few outliers, but these are during the early days of pandemic. The low values which are classified as outliers and are much smaller than (two orders of magnitude) of the April end values.\n",
        "\n",
        "\n",
        "1.   Dataset: Covid Cases# Outlier Count:4, Outlier Value:[10.0, 13.0, 15.0, 18.0] (4%)\n",
        "2.  Dataset: Covid Deaths# Outlier Count:2, Outlier Value:[1.0, 2.0] (2%)\n",
        "3.   Dataset: Approval Rating Outlier Count:0, Outlier Value:[] (0%)\n",
        "\n",
        "The data we used (nytimes data on Covid) and fivethirtyeight data on approval ratings are pre-processed and clean, hence we couldn't find any obvious/glaring data glitches.\n",
        "\n",
        "We also dropped unnecessary columns in Approval rating data (X) dataset, such as time stamp, low approval percentage, high disapproval percentage etc. The rows with any null values (after pdf conversion from cdf) are dropped.\n",
        "\n",
        "\n"
      ]
    },
    {
      "cell_type": "code",
      "metadata": {
        "id": "OmEchARV2L7Q",
        "colab_type": "code",
        "colab": {}
      },
      "source": [
        "def tukey(datalist, desciption):\n",
        "  #covid cases outlier detection\n",
        "  datalist.sort()\n",
        "  length = len(datalist) #case and death lengths are same, length = 101, odd samples\n",
        "  if length%2: #for odd length\n",
        "    median = datalist[round((length+1)/2)]\n",
        "    i1 = round((length)/4); i3 = round((length)*3/4)\n",
        "    q1 = (datalist[i1]+datalist[i1+1])/2;\n",
        "    q3 = (datalist[i3]+datalist[i3+1])/2;  \n",
        "  else: #for even length\n",
        "    median = (datalist[round((length)/2)] + datalist[round((length+1)/2)])/2\n",
        "    i1 = round((length)/4); i3 = round((length)*3/4)\n",
        "    q1 = (datalist[i1]);\n",
        "    q3 = (datalist[i3]);  \n",
        "\n",
        "  IQR = q3 - q1;\n",
        "  low = q1 - 1.5*IQR;\n",
        "  high = q3 + 1.5*IQR;\n",
        "  # outlier range Q1-1.5 IQR or above Q3+1.5 IQR.\n",
        "  outlier = 0; outlier_list = []\n",
        "  for value in datalist:\n",
        "    if value < low or value > high:\n",
        "      outlier +=1;\n",
        "      outlier_list.append(value);\n",
        "  print(\"Dataset: {} Outlier Count:{}, Outlier Value:{}\".format(desciption, outlier, outlier_list))\n",
        "\n"
      ],
      "execution_count": 0,
      "outputs": []
    },
    {
      "cell_type": "code",
      "metadata": {
        "id": "_uoBJWxfvuTl",
        "colab_type": "code",
        "outputId": "0fba045f-c509-44ac-dccb-cb3458d92e86",
        "colab": {
          "base_uri": "https://localhost:8080/",
          "height": 51
        }
      },
      "source": [
        "cases = list(dfCovid['cases'])\n",
        "deaths = list(dfCovid['deaths'])\n",
        "tukey(cases, \"Covid Cases#\");\n",
        "tukey(deaths, \"Covid Deaths#\");"
      ],
      "execution_count": 504,
      "outputs": [
        {
          "output_type": "stream",
          "text": [
            "Dataset: Covid Cases# Outlier Count:0, Outlier Value:[]\n",
            "Dataset: Covid Deaths# Outlier Count:0, Outlier Value:[]\n"
          ],
          "name": "stdout"
        }
      ]
    },
    {
      "cell_type": "code",
      "metadata": {
        "id": "yKkeE50Y1NSx",
        "colab_type": "code",
        "outputId": "959645f1-ce6e-413d-b320-b00e15773d86",
        "colab": {
          "base_uri": "https://localhost:8080/",
          "height": 34
        }
      },
      "source": [
        "\n",
        "#Approval rating outlier detection\n",
        "#covid cases outlier detection\n",
        "approval = list(dfXClean['approve_estimate']);\n",
        "tukey(approval, \"Approval Rating\");"
      ],
      "execution_count": 505,
      "outputs": [
        {
          "output_type": "stream",
          "text": [
            "Dataset: Approval Rating Outlier Count:0, Outlier Value:[]\n"
          ],
          "name": "stdout"
        }
      ]
    },
    {
      "cell_type": "code",
      "metadata": {
        "id": "_M_fIGRM7gzg",
        "colab_type": "code",
        "outputId": "8e315871-f14a-4285-9d57-d3d40187461e",
        "colab": {
          "base_uri": "https://localhost:8080/",
          "height": 68
        }
      },
      "source": [
        "#outleir for last 60 day data\n",
        "cases = list(dfCovid['cases'])[:-60]\n",
        "deaths = list(dfCovid['deaths'])[:-60]\n",
        "approval = list(dfXClean['approve_estimate'])[:-60]\n",
        "tukey(cases, \"Covid Cases#\");\n",
        "tukey(deaths, \"Covid Deaths#\");\n",
        "tukey(approval, \"Approval Rating\");"
      ],
      "execution_count": 506,
      "outputs": [
        {
          "output_type": "stream",
          "text": [
            "Dataset: Covid Cases# Outlier Count:4, Outlier Value:[10.0, 13.0, 15.0, 18.0]\n",
            "Dataset: Covid Deaths# Outlier Count:2, Outlier Value:[1.0, 2.0]\n",
            "Dataset: Approval Rating Outlier Count:3, Outlier Value:[41.909656, 42.222053, 44.570087]\n"
          ],
          "name": "stdout"
        }
      ]
    },
    {
      "cell_type": "code",
      "metadata": {
        "id": "6E-MJxxc_kOa",
        "colab_type": "code",
        "outputId": "4e9c0176-c041-44bb-90b1-6176a648cbde",
        "colab": {
          "base_uri": "https://localhost:8080/",
          "height": 204
        }
      },
      "source": [
        "dfCovid.tail()"
      ],
      "execution_count": 507,
      "outputs": [
        {
          "output_type": "execute_result",
          "data": {
            "text/html": [
              "<div>\n",
              "<style scoped>\n",
              "    .dataframe tbody tr th:only-of-type {\n",
              "        vertical-align: middle;\n",
              "    }\n",
              "\n",
              "    .dataframe tbody tr th {\n",
              "        vertical-align: top;\n",
              "    }\n",
              "\n",
              "    .dataframe thead th {\n",
              "        text-align: right;\n",
              "    }\n",
              "</style>\n",
              "<table border=\"1\" class=\"dataframe\">\n",
              "  <thead>\n",
              "    <tr style=\"text-align: right;\">\n",
              "      <th></th>\n",
              "      <th>cases</th>\n",
              "      <th>deaths</th>\n",
              "    </tr>\n",
              "  </thead>\n",
              "  <tbody>\n",
              "    <tr>\n",
              "      <th>96</th>\n",
              "      <td>26464.0</td>\n",
              "      <td>1139.0</td>\n",
              "    </tr>\n",
              "    <tr>\n",
              "      <th>97</th>\n",
              "      <td>23036.0</td>\n",
              "      <td>1355.0</td>\n",
              "    </tr>\n",
              "    <tr>\n",
              "      <th>98</th>\n",
              "      <td>24433.0</td>\n",
              "      <td>2215.0</td>\n",
              "    </tr>\n",
              "    <tr>\n",
              "      <th>99</th>\n",
              "      <td>26635.0</td>\n",
              "      <td>2365.0</td>\n",
              "    </tr>\n",
              "    <tr>\n",
              "      <th>100</th>\n",
              "      <td>30404.0</td>\n",
              "      <td>2171.0</td>\n",
              "    </tr>\n",
              "  </tbody>\n",
              "</table>\n",
              "</div>"
            ],
            "text/plain": [
              "       cases  deaths\n",
              "96   26464.0  1139.0\n",
              "97   23036.0  1355.0\n",
              "98   24433.0  2215.0\n",
              "99   26635.0  2365.0\n",
              "100  30404.0  2171.0"
            ]
          },
          "metadata": {
            "tags": []
          },
          "execution_count": 507
        }
      ]
    },
    {
      "cell_type": "code",
      "metadata": {
        "id": "AkmGYrv59YzH",
        "colab_type": "code",
        "outputId": "27856055-953e-435f-8bbb-13ef60bf02d4",
        "colab": {
          "base_uri": "https://localhost:8080/",
          "height": 204
        }
      },
      "source": [
        "#Outlier removal, these are first 5 values from the last 60 days\n",
        "for outlier_deaths in [10.0, 13.0, 15.0, 18.0]:\n",
        "  dfCovid = dfCovid[dfCovid.deaths != outlier_deaths]\n",
        "\n",
        "dfCovid.tail()"
      ],
      "execution_count": 508,
      "outputs": [
        {
          "output_type": "execute_result",
          "data": {
            "text/html": [
              "<div>\n",
              "<style scoped>\n",
              "    .dataframe tbody tr th:only-of-type {\n",
              "        vertical-align: middle;\n",
              "    }\n",
              "\n",
              "    .dataframe tbody tr th {\n",
              "        vertical-align: top;\n",
              "    }\n",
              "\n",
              "    .dataframe thead th {\n",
              "        text-align: right;\n",
              "    }\n",
              "</style>\n",
              "<table border=\"1\" class=\"dataframe\">\n",
              "  <thead>\n",
              "    <tr style=\"text-align: right;\">\n",
              "      <th></th>\n",
              "      <th>cases</th>\n",
              "      <th>deaths</th>\n",
              "    </tr>\n",
              "  </thead>\n",
              "  <tbody>\n",
              "    <tr>\n",
              "      <th>96</th>\n",
              "      <td>26464.0</td>\n",
              "      <td>1139.0</td>\n",
              "    </tr>\n",
              "    <tr>\n",
              "      <th>97</th>\n",
              "      <td>23036.0</td>\n",
              "      <td>1355.0</td>\n",
              "    </tr>\n",
              "    <tr>\n",
              "      <th>98</th>\n",
              "      <td>24433.0</td>\n",
              "      <td>2215.0</td>\n",
              "    </tr>\n",
              "    <tr>\n",
              "      <th>99</th>\n",
              "      <td>26635.0</td>\n",
              "      <td>2365.0</td>\n",
              "    </tr>\n",
              "    <tr>\n",
              "      <th>100</th>\n",
              "      <td>30404.0</td>\n",
              "      <td>2171.0</td>\n",
              "    </tr>\n",
              "  </tbody>\n",
              "</table>\n",
              "</div>"
            ],
            "text/plain": [
              "       cases  deaths\n",
              "96   26464.0  1139.0\n",
              "97   23036.0  1355.0\n",
              "98   24433.0  2215.0\n",
              "99   26635.0  2365.0\n",
              "100  30404.0  2171.0"
            ]
          },
          "metadata": {
            "tags": []
          },
          "execution_count": 508
        }
      ]
    },
    {
      "cell_type": "code",
      "metadata": {
        "id": "VK477q2a_ep3",
        "colab_type": "code",
        "outputId": "d0159833-0742-4784-c9fb-e92d1fee78df",
        "colab": {
          "base_uri": "https://localhost:8080/",
          "height": 204
        }
      },
      "source": [
        "#removing the corresponding outlier in the Approval dataset, these are the first 5 points\n",
        "#dfXClean = dfXClean[:-60][5:]\n",
        "dfXClean.tail()"
      ],
      "execution_count": 509,
      "outputs": [
        {
          "output_type": "execute_result",
          "data": {
            "text/html": [
              "<div>\n",
              "<style scoped>\n",
              "    .dataframe tbody tr th:only-of-type {\n",
              "        vertical-align: middle;\n",
              "    }\n",
              "\n",
              "    .dataframe tbody tr th {\n",
              "        vertical-align: top;\n",
              "    }\n",
              "\n",
              "    .dataframe thead th {\n",
              "        text-align: right;\n",
              "    }\n",
              "</style>\n",
              "<table border=\"1\" class=\"dataframe\">\n",
              "  <thead>\n",
              "    <tr style=\"text-align: right;\">\n",
              "      <th></th>\n",
              "      <th>approve_estimate</th>\n",
              "    </tr>\n",
              "  </thead>\n",
              "  <tbody>\n",
              "    <tr>\n",
              "      <th>96</th>\n",
              "      <td>43.428729</td>\n",
              "    </tr>\n",
              "    <tr>\n",
              "      <th>97</th>\n",
              "      <td>43.258787</td>\n",
              "    </tr>\n",
              "    <tr>\n",
              "      <th>98</th>\n",
              "      <td>42.599133</td>\n",
              "    </tr>\n",
              "    <tr>\n",
              "      <th>99</th>\n",
              "      <td>42.563159</td>\n",
              "    </tr>\n",
              "    <tr>\n",
              "      <th>100</th>\n",
              "      <td>42.921096</td>\n",
              "    </tr>\n",
              "  </tbody>\n",
              "</table>\n",
              "</div>"
            ],
            "text/plain": [
              "     approve_estimate\n",
              "96          43.428729\n",
              "97          43.258787\n",
              "98          42.599133\n",
              "99          42.563159\n",
              "100         42.921096"
            ]
          },
          "metadata": {
            "tags": []
          },
          "execution_count": 509
        }
      ]
    },
    {
      "cell_type": "markdown",
      "metadata": {
        "id": "ckKg_t4_7nzF",
        "colab_type": "text"
      },
      "source": [
        "\n",
        "\n",
        "####**2. Basic Visualization**\n",
        "\n",
        "---\n",
        "\n",
        "**General trend and few observations:**\n",
        "**Covid dataset**: We observed an exponential growth after the week of 15-21st March, total cases crossed one million by the 28th of April and per day infection crossing 25K. Total death crossed 67K in the same time period, with per day death of ~2.5K. The week of March 15th could be seen as an inflection point. The death# follows the same trend as the #cases graph.The  death value depends on the mortality rate. There is also a lag between the #cases and #death (seen at the inflection point) which could be attributed to the incubation time of time of virus. The rate of growth of number of cases per day and the deaths per day stabilized by the middle of march.\n",
        "\n",
        "\n",
        "**Approval Estimate** - Approval is cyclical in nature but is bound in the range of 42% (minimum) and 46%(maximum). The peak approval is 1.5% point lower after the 15th March week, compared to the previous peak in early March. (May or maynot be attributed to Covid, and this is examined in the inference, section 4.1). There are no outliers in this dataset.\n",
        "\n",
        "Please find the plots below.\n",
        "\n"
      ]
    },
    {
      "cell_type": "code",
      "metadata": {
        "id": "ZFzPetj2Mp5V",
        "colab_type": "code",
        "outputId": "e3215b8d-f579-45b7-f65c-d5349ae54148",
        "colab": {
          "base_uri": "https://localhost:8080/",
          "height": 532
        }
      },
      "source": [
        "# ToDos\n",
        "# Plot the cleaned data (Histogram and timeline plots)\n",
        "# Write a summary/Comment\n",
        "# Explain the general trends\n",
        "\n",
        "dfCovid.plot(kind='line', grid=True)\n",
        "dfXClean.plot(kind='line', grid=True)\n"
      ],
      "execution_count": 510,
      "outputs": [
        {
          "output_type": "execute_result",
          "data": {
            "text/plain": [
              "<matplotlib.axes._subplots.AxesSubplot at 0x7f5ffd7f2c18>"
            ]
          },
          "metadata": {
            "tags": []
          },
          "execution_count": 510
        },
        {
          "output_type": "display_data",
          "data": {
            "image/png": "[encoded data removed]",
            "text/plain": [
              "<Figure size 432x288 with 1 Axes>"
            ]
          },
          "metadata": {
            "tags": [],
            "needs_background": "light"
          }
        },
        {
          "output_type": "display_data",
          "data": {
            "image/png": "[encoded data removed]",
            "text/plain": [
              "<Figure size 432x288 with 1 Axes>"
            ]
          },
          "metadata": {
            "tags": [],
            "needs_background": "light"
          }
        }
      ]
    },
    {
      "cell_type": "code",
      "metadata": {
        "id": "ZYI8Sv31_-x4",
        "colab_type": "code",
        "outputId": "38fc84d4-7c7c-4878-ea4f-caafdfe95c2d",
        "colab": {
          "base_uri": "https://localhost:8080/",
          "height": 548
        }
      },
      "source": [
        "#histogram plot\n",
        "dfCovid.plot(kind='bar')\n",
        "dfXClean.plot(kind='bar' )"
      ],
      "execution_count": 511,
      "outputs": [
        {
          "output_type": "execute_result",
          "data": {
            "text/plain": [
              "<matplotlib.axes._subplots.AxesSubplot at 0x7f5ffd498fd0>"
            ]
          },
          "metadata": {
            "tags": []
          },
          "execution_count": 511
        },
        {
          "output_type": "display_data",
          "data": {
            "image/png": "[encoded data removed]",
            "text/plain": [
              "<Figure size 432x288 with 1 Axes>"
            ]
          },
          "metadata": {
            "tags": [],
            "needs_background": "light"
          }
        },
        {
          "output_type": "display_data",
          "data": {
            "image/png": "[encoded data removed]",
            "text/plain": [
              "<Figure size 432x288 with 1 Axes>"
            ]
          },
          "metadata": {
            "tags": [],
            "needs_background": "light"
          }
        }
      ]
    },
    {
      "cell_type": "markdown",
      "metadata": {
        "id": "_rNMSIv_7ePN",
        "colab_type": "text"
      },
      "source": [
        "####**3. Required Inferences**\n",
        "\n",
        "\n",
        "\n"
      ]
    },
    {
      "cell_type": "markdown",
      "metadata": {
        "id": "YaXAJwH87TJs",
        "colab_type": "text"
      },
      "source": [
        "#####**3.1.** Use your COVID19 dataset to predict the COVID19 fatality and #cases for the next one week. Use the following four prediction techniques: (i) AR(3), (ii) AR(5), (iii) EWMA with alpha = 0.5, and (iv) EWMA with alpha = 0.8. Make sure that your dataset allows you to verify the one week prediction. For example, use the first three weeks of data to predict the fourth week, and report the accuracy of your predictions using the actual fourth week data. Use metrics learned in class (MAPE as a % and MSE) to report accuracy numbers.\n",
        "\n",
        "EWMA results:\n",
        "For cases:\n",
        "\n",
        "Covid CASES EWMA MAPE:2.4834493061938523%, MSE:775305.1824679531\n",
        "\n",
        "Covid CASES EWMA MAPE:7.57864880555454%, MSE:6379590.352936645\n",
        "\n",
        "For Deaths:\n",
        "\n",
        "Covid DEATHS EWMA MAPE:3.7356872716674157%, MSE:7719.560088765177\n",
        "\n",
        "Covid DEATHS EWMA MAPE:10.231780831776542%, MSE:47517.9968718262\n",
        "\n",
        "\n",
        "AR results:\n",
        "I couldn't get the results for AR, but I can see that the \"y\" values and the \"x\" values are as according to the slide 24 of course taught in class. the predicted values and the X values are shown (on the rolling basis).\n",
        "Please see the partial results below."
      ]
    },
    {
      "cell_type": "code",
      "metadata": {
        "id": "EPfG8DoV87sb",
        "colab_type": "code",
        "colab": {}
      },
      "source": [
        ""
      ],
      "execution_count": 0,
      "outputs": []
    },
    {
      "cell_type": "code",
      "metadata": {
        "id": "BjIAhMcouexZ",
        "colab_type": "code",
        "colab": {}
      },
      "source": [
        "def MAPE(y_pred, y_real):\n",
        "  #mean of absolute percentage error\n",
        "  sum_error = 0\n",
        "  for i in range(0, len(y_pred)):\n",
        "    error = abs(y_pred[i] - y_real[i]);\n",
        "    error = error/ y_real[i];\n",
        "    sum_error += error\n",
        "  return sum_error/len(y_pred)*100;\n",
        "\n",
        "\n",
        "def MSE(y_pred, y_real):\n",
        "  #mean of square or error\n",
        "  sum_error = 0\n",
        "  for i in range(0, len(y_pred)):\n",
        "    error = abs(y_pred[i] - y_real[i]);\n",
        "    error = error*error;\n",
        "    sum_error += error\n",
        "  return sum_error/len(y_pred)\n"
      ],
      "execution_count": 0,
      "outputs": []
    },
    {
      "cell_type": "code",
      "metadata": {
        "id": "JhLqhhqdSW_3",
        "colab_type": "code",
        "colab": {}
      },
      "source": [
        "#Exponential Weighted Moving Average (Alpha = 0.5, alpha = 0.8)\n",
        "#use the first three weeks of data to predict the fourth week\n",
        "def ewma(alpha, y):\n",
        "  #yhat_t1 = alpha*y_t + (1-alpha(*yhat_t0) // and unroll\n",
        "  #generate a alpha sum for first 3 weeks\n",
        "  y_t = y[0];\n",
        "  for i in range(0,21): #no nee dto predict first 3 weeks, using data to find y_sum\n",
        "    y_t_1 = alpha*y[i] + (1-alpha)*y_t;\n",
        "    y_t = y_t_1\n",
        "  \n",
        "  #print(y_t)\n",
        "  #predict next week, using previou 3 weeks\n",
        "  y_pred = [0]*7\n",
        "  y_actual = y[-8:-1];\n",
        "  for i in range(0,7):\n",
        "    y_pred[i] = y_actual[i]*alpha + (1-alpha)*y_t;\n",
        "    y_t = y_pred[i] #for next prediction\n",
        "\n",
        "  return y_pred"
      ],
      "execution_count": 0,
      "outputs": []
    },
    {
      "cell_type": "code",
      "metadata": {
        "id": "2pcw32xbuBIl",
        "colab_type": "code",
        "outputId": "a564b4f1-2e76-40d7-ee48-f25b1195acff",
        "colab": {
          "base_uri": "https://localhost:8080/",
          "height": 51
        }
      },
      "source": [
        "#MAPE as a % and MSE\n",
        "fourweekCases =  list(dfCovid['cases'][-29:-1])\n",
        "fourweekDeaths = list(dfCovid['deaths'][-29:-1])\n",
        "\n",
        "y_pred = ewma(0.8, fourweekCases);\n",
        "print(\"Covid CASES EWMA MAPE:{}%, MSE:{}\".format(MAPE(y_pred,fourweekCases[-8:-1]), MSE(y_pred, fourweekCases[-8:-1])));\n",
        "\n",
        "y_pred = ewma(0.5, fourweekCases);\n",
        "print(\"Covid CASES EWMA MAPE:{}%, MSE:{}\".format(MAPE(y_pred,fourweekCases[-8:-1]), MSE(y_pred, fourweekCases[-8:-1])));"
      ],
      "execution_count": 514,
      "outputs": [
        {
          "output_type": "stream",
          "text": [
            "Covid CASES EWMA MAPE:2.4834493061938523%, MSE:775305.1824679531\n",
            "Covid CASES EWMA MAPE:7.57864880555454%, MSE:6379590.352936645\n"
          ],
          "name": "stdout"
        }
      ]
    },
    {
      "cell_type": "code",
      "metadata": {
        "id": "2fLG5SLxeshO",
        "colab_type": "code",
        "outputId": "83bad81a-2a88-4e58-e335-f8e43d562f53",
        "colab": {
          "base_uri": "https://localhost:8080/",
          "height": 51
        }
      },
      "source": [
        "y_pred = ewma(0.8, fourweekDeaths);\n",
        "print(\"Covid DEATHS EWMA MAPE:{}%, MSE:{}\".format(MAPE(y_pred,fourweekDeaths[-8:-1]), MSE(y_pred, fourweekDeaths[-8:-1])));\n",
        "\n",
        "y_pred = ewma(0.5, fourweekDeaths);\n",
        "print(\"Covid DEATHS EWMA MAPE:{}%, MSE:{}\".format(MAPE(y_pred,fourweekDeaths[-8:-1]), MSE(y_pred, fourweekDeaths[-8:-1])));"
      ],
      "execution_count": 515,
      "outputs": [
        {
          "output_type": "stream",
          "text": [
            "Covid DEATHS EWMA MAPE:3.7356872716674157%, MSE:7719.560088765177\n",
            "Covid DEATHS EWMA MAPE:10.231780831776542%, MSE:47517.9968718262\n"
          ],
          "name": "stdout"
        }
      ]
    },
    {
      "cell_type": "code",
      "metadata": {
        "id": "hWhQBMfNxDgg",
        "colab_type": "code",
        "colab": {}
      },
      "source": [
        "#n - number of points, y - data series\n",
        "#use first 3 weeks to predict fourth week\n",
        "def AR(y, n):\n",
        "  #b_ols = inverse(x_t * x)*(x_t * y) \n",
        "  #n = number of equations needed\n",
        "  #np.linalg.inv(a)\n",
        "  #np.transpose(x)\n",
        "  rolling = []\n",
        "  for i in range(0, n):\n",
        "    rolling = [y[i]] + rolling;\n",
        "  #print(rolling)\n",
        "  \n",
        "  count = 0\n",
        "  X = np.random.randint(1, size=(n+1, n+1)) #X array\n",
        "  Y = np.random.randint(1, size=(n+1)) #Y array\n",
        "  #X[:,0] = 1 #set first column to 1 \n",
        "\n",
        "  for i in range(n, 21):\n",
        "    X[i%n+1] = [1] + rolling;\n",
        "    Y[i%n+1] = y[i];\n",
        "    print(\"Y_t+1: {}, X: {}\".format(Y[i%n+1], X[i%n+1]))\n",
        "    rolling.pop(-1); #remove last y ,\n",
        "    rolling = [y[i]] + rolling; #add new y\n",
        "    count += 1;\n",
        "    if count >n:\n",
        "      #solve for beta #no prediction\n",
        "      beta = (np.linalg.pinv((np.transpose(X)*X)))*(np.transpose(X)*np.transpose(Y))\n",
        "\n",
        "  #final week prediction\n",
        "  #print(beta)\n",
        "  y_pred = [0]*7\n",
        "  for i in range(0,7):\n",
        "    y_pred[i] = (X[i%n+1]*beta);\n",
        "    X[i%n+1] = [1] + rolling;\n",
        "    Y[i%n+1] = y[i];\n",
        "    rolling.pop(0); #remove first y ,\n",
        "    rolling.append(y[i]); #add new y\n",
        "    beta = np.linalg.pinv((np.transpose(X)*X))* (np.transpose(X)*np.transpose(Y))\n",
        "  #print(y_pred)\n",
        "  return y_pred;"
      ],
      "execution_count": 0,
      "outputs": []
    },
    {
      "cell_type": "code",
      "metadata": {
        "id": "NPdSqVZq63At",
        "colab_type": "code",
        "outputId": "443cd6d2-1478-485d-b601-3b470b36def9",
        "colab": {
          "base_uri": "https://localhost:8080/",
          "height": 2193
        }
      },
      "source": [
        "y_pred_1 = AR(fourweekCases, 3);\n",
        "print(\"Covid CASES AR MAPE:{}%, MSE:{}\".format(MAPE(y_pred_1,fourweekCases[-8:-1]), MSE(y_pred_1, fourweekCases[-8:-1])));\n",
        "\n",
        "y_pred_1 = AR(fourweekCases, 5);\n",
        "print(\"Covid CASES AR MAPE:{}%, MSE:{}\".format(MAPE(y_pred_1,fourweekCases[-8:-1]), MSE(y_pred_1, fourweekCases[-8:-1])));\n",
        "\n",
        "y_pred_1 = AR(fourweekCases, 3);\n",
        "print(\"Covid CASES AR MAPE:{}%, MSE:{}\".format(MAPE(y_pred_1,fourweekCases[-8:-1]), MSE(y_pred_1, fourweekCases[-8:-1])));\n",
        "\n",
        "y_pred_1 = AR(fourweekCases, 5);\n",
        "print(\"Covid CASES AR MAPE:{}%, MSE:{}\".format(MAPE(y_pred_1,fourweekCases[-8:-1]), MSE(y_pred_1, fourweekCases[-8:-1])));\n",
        "\n",
        "#y_pred_1 = AR(fourweekCases, 5);\n",
        "#y_pred_1 =AR(fourweekDeaths, 3);\n",
        "#y_pred_1 =AR(fourweekDeaths, 5);"
      ],
      "execution_count": 517,
      "outputs": [
        {
          "output_type": "stream",
          "text": [
            "Y_t+1: 25233, X: [    1 35035 32467 29323]\n",
            "Y_t+1: 29444, X: [    1 25233 35035 32467]\n",
            "Y_t+1: 31535, X: [    1 29444 25233 35035]\n",
            "Y_t+1: 31568, X: [    1 31535 29444 25233]\n",
            "Y_t+1: 34368, X: [    1 31568 31535 29444]\n",
            "Y_t+1: 33230, X: [    1 34368 31568 31535]\n",
            "Y_t+1: 31483, X: [    1 33230 34368 31568]\n",
            "Y_t+1: 26930, X: [    1 31483 33230 34368]\n",
            "Y_t+1: 25526, X: [    1 26930 31483 33230]\n",
            "Y_t+1: 26432, X: [    1 25526 26930 31483]\n",
            "Y_t+1: 29771, X: [    1 26432 25526 26930]\n",
            "Y_t+1: 31477, X: [    1 29771 26432 25526]\n",
            "Y_t+1: 31320, X: [    1 31477 29771 26432]\n",
            "Y_t+1: 28241, X: [    1 31320 31477 29771]\n",
            "Y_t+1: 25220, X: [    1 28241 31320 31477]\n",
            "Y_t+1: 27135, X: [    1 25220 28241 31320]\n",
            "Y_t+1: 25322, X: [    1 27135 25220 28241]\n",
            "Y_t+1: 28567, X: [    1 25322 27135 25220]\n",
            "Covid CASES AR MAPE:[[100.         100.         100.         100.        ]\n",
            " [100.         433.58544791 445.84070603 182.92945886]\n",
            " [100.         418.77471256 470.97996307 807.51389177]\n",
            " [100.         154.42979988 701.47809107 740.34000192]]%, MSE:[[8.97552410e+08 8.97552410e+08 8.97552410e+08 8.97552410e+08]\n",
            " [8.97552410e+08 2.34287514e+10 3.75638717e+10 4.18556247e+09]\n",
            " [8.97552410e+08 3.28610479e+10 7.85560852e+10 1.29479510e+11]\n",
            " [8.97552410e+08 3.46427270e+09 9.78163385e+10 1.09968930e+11]]\n",
            "Y_t+1: 31535, X: [    1 29444 25233 35035 32467 29323]\n",
            "Y_t+1: 31568, X: [    1 31535 29444 25233 35035 32467]\n",
            "Y_t+1: 34368, X: [    1 31568 31535 29444 25233 35035]\n",
            "Y_t+1: 33230, X: [    1 34368 31568 31535 29444 25233]\n",
            "Y_t+1: 31483, X: [    1 33230 34368 31568 31535 29444]\n",
            "Y_t+1: 26930, X: [    1 31483 33230 34368 31568 31535]\n",
            "Y_t+1: 25526, X: [    1 26930 31483 33230 34368 31568]\n",
            "Y_t+1: 26432, X: [    1 25526 26930 31483 33230 34368]\n",
            "Y_t+1: 29771, X: [    1 26432 25526 26930 31483 33230]\n",
            "Y_t+1: 31477, X: [    1 29771 26432 25526 26930 31483]\n",
            "Y_t+1: 31320, X: [    1 31477 29771 26432 25526 26930]\n",
            "Y_t+1: 28241, X: [    1 31320 31477 29771 26432 25526]\n",
            "Y_t+1: 25220, X: [    1 28241 31320 31477 29771 26432]\n",
            "Y_t+1: 27135, X: [    1 25220 28241 31320 31477 29771]\n",
            "Y_t+1: 25322, X: [    1 27135 25220 28241 31320 31477]\n",
            "Y_t+1: 28567, X: [    1 25322 27135 25220 28241 31320]\n",
            "Covid CASES AR MAPE:[[100.         100.         100.         100.         100.\n",
            "  100.        ]\n",
            " [100.         297.2047041  328.38169525 517.23859261 363.65115332\n",
            "  245.58647872]\n",
            " [100.         292.97146732 549.88370006 822.88087373 262.34994552\n",
            "  146.05720797]\n",
            " [100.         466.58910176 801.68734653 849.03322352 463.47451447\n",
            "  494.73756049]\n",
            " [100.         403.78902965 287.36616117 518.9160325  485.48540609\n",
            "  308.71811436]\n",
            " [100.         262.24021856 195.57334975 614.3565746  313.73778117\n",
            "  539.22457368]]%, MSE:[[8.97552410e+08 8.97552410e+08 8.97552410e+08 8.97552410e+08\n",
            "  8.97552410e+08 8.97552410e+08]\n",
            " [8.97552410e+08 9.66135533e+09 2.63810243e+10 3.49424629e+10\n",
            "  1.37707369e+10 1.14927102e+10]\n",
            " [8.97552410e+08 1.94751513e+10 8.41403531e+10 7.81653043e+10\n",
            "  8.84854063e+09 3.19581124e+09]\n",
            " [8.97552410e+08 3.00768451e+10 8.12835812e+10 1.15230496e+11\n",
            "  2.78324162e+10 3.45808929e+10]\n",
            " [8.97552410e+08 1.73798838e+10 9.95690472e+09 3.26642829e+10\n",
            "  2.54815875e+10 2.82005297e+10]\n",
            " [8.97552410e+08 1.23035028e+10 6.87555990e+09 5.94950082e+10\n",
            "  3.18094214e+10 7.33390060e+10]]\n",
            "Y_t+1: 25233, X: [    1 35035 32467 29323]\n",
            "Y_t+1: 29444, X: [    1 25233 35035 32467]\n",
            "Y_t+1: 31535, X: [    1 29444 25233 35035]\n",
            "Y_t+1: 31568, X: [    1 31535 29444 25233]\n",
            "Y_t+1: 34368, X: [    1 31568 31535 29444]\n",
            "Y_t+1: 33230, X: [    1 34368 31568 31535]\n",
            "Y_t+1: 31483, X: [    1 33230 34368 31568]\n",
            "Y_t+1: 26930, X: [    1 31483 33230 34368]\n",
            "Y_t+1: 25526, X: [    1 26930 31483 33230]\n",
            "Y_t+1: 26432, X: [    1 25526 26930 31483]\n",
            "Y_t+1: 29771, X: [    1 26432 25526 26930]\n",
            "Y_t+1: 31477, X: [    1 29771 26432 25526]\n",
            "Y_t+1: 31320, X: [    1 31477 29771 26432]\n",
            "Y_t+1: 28241, X: [    1 31320 31477 29771]\n",
            "Y_t+1: 25220, X: [    1 28241 31320 31477]\n",
            "Y_t+1: 27135, X: [    1 25220 28241 31320]\n",
            "Y_t+1: 25322, X: [    1 27135 25220 28241]\n",
            "Y_t+1: 28567, X: [    1 25322 27135 25220]\n",
            "Covid CASES AR MAPE:[[100.         100.         100.         100.        ]\n",
            " [100.         433.58544791 445.84070603 182.92945886]\n",
            " [100.         418.77471256 470.97996307 807.51389177]\n",
            " [100.         154.42979988 701.47809107 740.34000192]]%, MSE:[[8.97552410e+08 8.97552410e+08 8.97552410e+08 8.97552410e+08]\n",
            " [8.97552410e+08 2.34287514e+10 3.75638717e+10 4.18556247e+09]\n",
            " [8.97552410e+08 3.28610479e+10 7.85560852e+10 1.29479510e+11]\n",
            " [8.97552410e+08 3.46427270e+09 9.78163385e+10 1.09968930e+11]]\n",
            "Y_t+1: 31535, X: [    1 29444 25233 35035 32467 29323]\n",
            "Y_t+1: 31568, X: [    1 31535 29444 25233 35035 32467]\n",
            "Y_t+1: 34368, X: [    1 31568 31535 29444 25233 35035]\n",
            "Y_t+1: 33230, X: [    1 34368 31568 31535 29444 25233]\n",
            "Y_t+1: 31483, X: [    1 33230 34368 31568 31535 29444]\n",
            "Y_t+1: 26930, X: [    1 31483 33230 34368 31568 31535]\n",
            "Y_t+1: 25526, X: [    1 26930 31483 33230 34368 31568]\n",
            "Y_t+1: 26432, X: [    1 25526 26930 31483 33230 34368]\n",
            "Y_t+1: 29771, X: [    1 26432 25526 26930 31483 33230]\n",
            "Y_t+1: 31477, X: [    1 29771 26432 25526 26930 31483]\n",
            "Y_t+1: 31320, X: [    1 31477 29771 26432 25526 26930]\n",
            "Y_t+1: 28241, X: [    1 31320 31477 29771 26432 25526]\n",
            "Y_t+1: 25220, X: [    1 28241 31320 31477 29771 26432]\n",
            "Y_t+1: 27135, X: [    1 25220 28241 31320 31477 29771]\n",
            "Y_t+1: 25322, X: [    1 27135 25220 28241 31320 31477]\n",
            "Y_t+1: 28567, X: [    1 25322 27135 25220 28241 31320]\n",
            "Covid CASES AR MAPE:[[100.         100.         100.         100.         100.\n",
            "  100.        ]\n",
            " [100.         297.2047041  328.38169525 517.23859261 363.65115332\n",
            "  245.58647872]\n",
            " [100.         292.97146732 549.88370006 822.88087373 262.34994552\n",
            "  146.05720797]\n",
            " [100.         466.58910176 801.68734653 849.03322352 463.47451447\n",
            "  494.73756049]\n",
            " [100.         403.78902965 287.36616117 518.9160325  485.48540609\n",
            "  308.71811436]\n",
            " [100.         262.24021856 195.57334975 614.3565746  313.73778117\n",
            "  539.22457368]]%, MSE:[[8.97552410e+08 8.97552410e+08 8.97552410e+08 8.97552410e+08\n",
            "  8.97552410e+08 8.97552410e+08]\n",
            " [8.97552410e+08 9.66135533e+09 2.63810243e+10 3.49424629e+10\n",
            "  1.37707369e+10 1.14927102e+10]\n",
            " [8.97552410e+08 1.94751513e+10 8.41403531e+10 7.81653043e+10\n",
            "  8.84854063e+09 3.19581124e+09]\n",
            " [8.97552410e+08 3.00768451e+10 8.12835812e+10 1.15230496e+11\n",
            "  2.78324162e+10 3.45808929e+10]\n",
            " [8.97552410e+08 1.73798838e+10 9.95690472e+09 3.26642829e+10\n",
            "  2.54815875e+10 2.82005297e+10]\n",
            " [8.97552410e+08 1.23035028e+10 6.87555990e+09 5.94950082e+10\n",
            "  3.18094214e+10 7.33390060e+10]]\n"
          ],
          "name": "stdout"
        }
      ]
    },
    {
      "cell_type": "markdown",
      "metadata": {
        "id": "HJCb1PgB5lFK",
        "colab_type": "text"
      },
      "source": [
        "#####**3.2.  Application of the Wald’s test, Z-test, and T-test**\n",
        "\n"
      ]
    },
    {
      "cell_type": "markdown",
      "metadata": {
        "id": "l2vJ-FpT5whi",
        "colab_type": "text"
      },
      "source": [
        "###### **Data preprocessing**"
      ]
    },
    {
      "cell_type": "code",
      "metadata": {
        "id": "zYvSJm_d5vlN",
        "colab_type": "code",
        "colab": {}
      },
      "source": [
        "# Notations\n",
        "#   LW - Last Week\n",
        "#   SLW - Second Last Week\n",
        "\n",
        "alpha = 0.05\n",
        "LW = dfCovid[-7:]\n",
        "SLW = dfCovid[-14:-7]\n",
        "casesLW = LW['cases'].to_numpy().flatten()\n",
        "casesSLW = SLW['cases'].to_numpy().flatten()\n",
        "deathLW = LW['deaths'].to_numpy().flatten()\n",
        "deathSLW = SLW['deaths'].to_numpy().flatten()"
      ],
      "execution_count": 0,
      "outputs": []
    },
    {
      "cell_type": "markdown",
      "metadata": {
        "id": "Dn86kWxL4d9N",
        "colab_type": "text"
      },
      "source": [
        "###### **Wald's Test**"
      ]
    },
    {
      "cell_type": "code",
      "metadata": {
        "id": "YzIUO73p004L",
        "colab_type": "code",
        "colab": {}
      },
      "source": [
        "class WaldsTest:\n",
        "    LW = None\n",
        "    SLW = None\n",
        "    alpha = 0.05\n",
        "    \n",
        "    def __init__(self, alpha: float, SLW: np.ndarray, LW: np.ndarray):\n",
        "        self.alpha = alpha\n",
        "        self.SLW = SLW\n",
        "        self.LW = LW\n",
        "\n",
        "    def oneSample(self)->str:\n",
        "        lambdaSLW = np.sum(self.SLW)/len(self.SLW)\n",
        "        lambdaLW = np.sum(self.LW)/len(self.LW) \n",
        "        n = float(len(self.LW))\n",
        "        SE = np.sqrt(lambdaLW/n)\n",
        "\n",
        "        W = (lambdaLW - lambdaSLW)/SE\n",
        "        \n",
        "        if abs(W) > stats.norm.ppf(1 - (alpha/2)):\n",
        "            return \"Null Hypothesis is Rejected\"\n",
        "        else:\n",
        "            return \"Null Hypothesis is NOT Rejected\"\n",
        "\n",
        "    def twoSample(self):\n",
        "        delta = 0\n",
        "        n = float(len(self.LW))\n",
        "        m = float(len(self.SLW))\n",
        "        \n",
        "        muLW = np.sum(self.LW)/n\n",
        "        muSLW = np.sum(self.SLW)/m\n",
        "        delta_hat = muLW - muSLW\n",
        "        SE = np.sqrt((muLW/n) + (muSLW/m))\n",
        "        \n",
        "        W = (delta_hat - delta)/SE\n",
        "        \n",
        "        if abs(W) > stats.norm.ppf(1 - (self.alpha/2)):\n",
        "            return \"Null Hypothesis is Rejected\"\n",
        "        else:\n",
        "            return \"Null Hypothesis is NOT Rejected\""
      ],
      "execution_count": 0,
      "outputs": []
    },
    {
      "cell_type": "code",
      "metadata": {
        "id": "xyyaM3xE6ctD",
        "colab_type": "code",
        "outputId": "c7a0fc78-ef55-4919-b8bb-cae648dce5f1",
        "colab": {
          "base_uri": "https://localhost:8080/",
          "height": 238
        }
      },
      "source": [
        "print(\"\\n-------------------Walds Test----------------------------------\\n\")\n",
        "testCases = WaldsTest(alpha, casesSLW, casesLW)\n",
        "testDeaths = WaldsTest(alpha, deathSLW, deathLW)\n",
        "print(\"1. Cases\")\n",
        "\n",
        "print(\"\\ta. One Sample Test\")\n",
        "print(\"\\t\\t\" + testCases.oneSample())\n",
        "\n",
        "print(\"\\tb. Two Sample Test\")\n",
        "print(\"\\t\\t\" + testCases.twoSample())\n",
        "\n",
        "print(\"2. Deaths\")\n",
        "\n",
        "print(\"\\ta. One Sample Test\")\n",
        "print(\"\\t\\t\" + testDeaths.oneSample())\n",
        "\n",
        "print(\"\\tb. Two Sample Test\")\n",
        "print(\"\\t\\t\" + testDeaths.twoSample())"
      ],
      "execution_count": 520,
      "outputs": [
        {
          "output_type": "stream",
          "text": [
            "\n",
            "-------------------Walds Test----------------------------------\n",
            "\n",
            "1. Cases\n",
            "\ta. One Sample Test\n",
            "\t\tNull Hypothesis is Rejected\n",
            "\tb. Two Sample Test\n",
            "\t\tNull Hypothesis is Rejected\n",
            "2. Deaths\n",
            "\ta. One Sample Test\n",
            "\t\tNull Hypothesis is Rejected\n",
            "\tb. Two Sample Test\n",
            "\t\tNull Hypothesis is Rejected\n"
          ],
          "name": "stdout"
        }
      ]
    },
    {
      "cell_type": "markdown",
      "metadata": {
        "id": "sVMKKRK_nzA9",
        "colab_type": "text"
      },
      "source": [
        "![Walds Test](https://raw.githubusercontent.com/prtsh/CSE-544-Covid19-vs-PresidentialApproval/master/waldsA.jpeg)\n",
        "![Walds Test](https://raw.githubusercontent.com/prtsh/CSE-544-Covid19-vs-PresidentialApproval/master/waldsB.jpeg)"
      ]
    },
    {
      "cell_type": "markdown",
      "metadata": {
        "id": "r1jkuI-Dnt1Q",
        "colab_type": "text"
      },
      "source": [
        ""
      ]
    },
    {
      "cell_type": "markdown",
      "metadata": {
        "id": "zXWUX3kG4lAn",
        "colab_type": "text"
      },
      "source": [
        "###### **Z test**"
      ]
    },
    {
      "cell_type": "code",
      "metadata": {
        "id": "JGnpBQO64qiE",
        "colab_type": "code",
        "colab": {}
      },
      "source": [
        "class Ztest:\n",
        "    LW = None\n",
        "    SLW = None\n",
        "    trueSigma2 = None\n",
        "    alpha = 0.05\n",
        "    \n",
        "    def __init__(self, alpha: float, SLW: np.ndarray, LW: np.ndarray, population: np.ndarray):\n",
        "        self.alpha = alpha\n",
        "        self.SLW = SLW\n",
        "        self.LW = LW\n",
        "        self.trueSigma2 = self.calcTrueSigma2(population)\n",
        "        \n",
        "    def calcTrueSigma2(self, data: np.ndarray)->float:\n",
        "        trueMu = np.sum(data)/float(len(data))\n",
        "        trueSigma2 = np.sum(np.square(data - trueMu))/float(len(data)-1)\n",
        "#         print(trueSigma2)\n",
        "        return trueSigma2\n",
        "        \n",
        "    \n",
        "    def oneSample(self):\n",
        "        muSLW = np.sum(self.SLW)/float(len(self.SLW))\n",
        "        n = float(len(self.LW))\n",
        "        meanLW = np.sum(self.LW)/n\n",
        "        Z = (meanLW - muSLW)/(np.sqrt(self.trueSigma2/n))\n",
        "        \n",
        "        if abs(Z) > stats.norm.ppf(1 - (self.alpha/2)):\n",
        "            return \"Null Hypothesis is Rejected\"\n",
        "        else:\n",
        "            return \"Null Hypothesis is NOT rejected\""
      ],
      "execution_count": 0,
      "outputs": []
    },
    {
      "cell_type": "code",
      "metadata": {
        "id": "r6RSafms6jnN",
        "colab_type": "code",
        "outputId": "e4c4f011-d682-4e2a-f2bc-0bf74c9c144b",
        "colab": {
          "base_uri": "https://localhost:8080/",
          "height": 170
        }
      },
      "source": [
        "print(\"\\n-------------------Z-Test----------------------------------\\n\")\n",
        "testCases = Ztest(alpha, casesSLW, casesLW, dfCovid['cases'])\n",
        "testDeaths = Ztest(alpha, deathSLW, deathLW, dfCovid['deaths'])\n",
        "print(\"1. Cases\")\n",
        "\n",
        "print(\"\\ta. One Sample Test\")\n",
        "print(\"\\t\\t\" + testCases.oneSample())\n",
        "\n",
        "print(\"2. Deaths\")\n",
        "\n",
        "print(\"\\ta. One Sample Test\")\n",
        "print(\"\\t\\t\" + testDeaths.oneSample())"
      ],
      "execution_count": 522,
      "outputs": [
        {
          "output_type": "stream",
          "text": [
            "\n",
            "-------------------Z-Test----------------------------------\n",
            "\n",
            "1. Cases\n",
            "\ta. One Sample Test\n",
            "\t\tNull Hypothesis is NOT rejected\n",
            "2. Deaths\n",
            "\ta. One Sample Test\n",
            "\t\tNull Hypothesis is NOT rejected\n"
          ],
          "name": "stdout"
        }
      ]
    },
    {
      "cell_type": "markdown",
      "metadata": {
        "id": "4v8xjZpLoAPT",
        "colab_type": "text"
      },
      "source": [
        "![Walds Test](https://raw.githubusercontent.com/prtsh/CSE-544-Covid19-vs-PresidentialApproval/master/zTestNew.jpeg)"
      ]
    },
    {
      "cell_type": "markdown",
      "metadata": {
        "id": "_RWm0-e24u3p",
        "colab_type": "text"
      },
      "source": [
        "###### **T test**"
      ]
    },
    {
      "cell_type": "code",
      "metadata": {
        "id": "LH_mAblh4vNZ",
        "colab_type": "code",
        "colab": {}
      },
      "source": [
        "class Ttest:\n",
        "    LW = None\n",
        "    SLW = None\n",
        "    alpha = 0.05\n",
        "    \n",
        "    def __init__(self, alpha: float, SLW: np.ndarray, LW: np.ndarray):\n",
        "        self.alpha = alpha\n",
        "        self.SLW = SLW\n",
        "        self.LW = LW\n",
        "        \n",
        "    def oneSample(self)->str:\n",
        "        muSLW = np.sum(self.SLW)/len(self.SLW)\n",
        "        \n",
        "        n = float(len(self.LW))\n",
        "        X_mean = np.sum(self.LW)/len(self.LW)\n",
        "        # print(self.LW - X_mean)\n",
        "        # print(np.square(self.LW - X_mean))\n",
        "        S = np.sqrt(np.sum(np.square(self.LW - X_mean))/(n-1))\n",
        "        T = (X_mean - muSLW)/(S/np.sqrt(n))\n",
        "\n",
        "        if abs(T) > stats.t.ppf(1-(self.alpha/2), n-1):\n",
        "            return \"Null Hypothesis is Rejected\"\n",
        "        else:\n",
        "            return \"Null Hypothesis is NOT Rejected\"\n",
        "    \n",
        "    def twoSamplePaired(self)->str:\n",
        "        D_0 = 0\n",
        "        D = self.LW - self.SLW\n",
        "        n = float(len(D))\n",
        "        D_mean = np.sum(D)/n\n",
        "        \n",
        "        Sd = np.std(D)\n",
        "        \n",
        "        T = (D_mean - D_0)/(Sd/np.sqrt(n))\n",
        "        \n",
        "        if abs(T) > stats.t.ppf(1 - (alpha/2), n-1):\n",
        "            return \"Null Hypothesis is Rejected\"\n",
        "        else:\n",
        "            return \"Null Hypothesis is NOT Rejected\"\n",
        "    \n",
        "    def twoSampleUnpaired(self)->str:\n",
        "        D_0 = 0\n",
        "        n = float(len(self.LW))\n",
        "        m = float(len(self.SLW))\n",
        "        \n",
        "        meanLW = np.sum(self.LW)/n\n",
        "        meanSLW = np.sum(self.SLW)/m\n",
        "        D_mean = meanLW - meanSLW\n",
        "        \n",
        "        varLW = np.sum(np.square(self.LW - meanLW))/(n-1)\n",
        "        varSLW = np.sum(np.square(self.SLW - meanSLW))/(n-1)\n",
        "        Sd = np.sqrt((varLW/n) + (varSLW/m))\n",
        "        \n",
        "        # T = (D_mean - D_0)/(Sd/np.sqrt(n))\n",
        "        T = (D_mean - D_0)/Sd\n",
        "        \n",
        "        if abs(T) > stats.t.ppf(1 - (alpha/2), n+m-2):\n",
        "            return \"Null Hypothesis is Rejected\"\n",
        "        else:\n",
        "            return \"Null Hypothesis is NOT Rejected\""
      ],
      "execution_count": 0,
      "outputs": []
    },
    {
      "cell_type": "code",
      "metadata": {
        "id": "WD6FEltY6xo3",
        "colab_type": "code",
        "outputId": "f7ae9743-3a17-4b2e-fdd7-4f878d7d6d23",
        "colab": {
          "base_uri": "https://localhost:8080/",
          "height": 306
        }
      },
      "source": [
        "print(\"\\n-------------------T-Test----------------------------------\\n\")\n",
        "testCases = Ttest(alpha, casesSLW, casesLW)\n",
        "testDeaths = Ttest(alpha, deathSLW, deathLW)\n",
        "print(\"1. Cases\")\n",
        "\n",
        "print(\"\\ta. One Sample Test\")\n",
        "print(\"\\t\\t\" + testCases.oneSample())\n",
        "\n",
        "print(\"\\tb. Two Sample PAIRED Test\")\n",
        "print(\"\\t\\t\" + testCases.twoSamplePaired())\n",
        "\n",
        "print(\"\\tb. Two Sample Unpaired Test\")\n",
        "print(\"\\t\\t\" + testDeaths.twoSampleUnpaired())\n",
        "\n",
        "print(\"2. Deaths\")\n",
        "\n",
        "print(\"\\ta. One Sample Test\")\n",
        "print(\"\\t\\t\" + testDeaths.oneSample())\n",
        "\n",
        "print(\"\\tb. Two Sample Paired Test\")\n",
        "print(\"\\t\\t\" + testDeaths.twoSamplePaired())\n",
        "\n",
        "print(\"\\tb. Two Sample Unpaired Test\")\n",
        "print(\"\\t\\t\" + testDeaths.twoSampleUnpaired())"
      ],
      "execution_count": 524,
      "outputs": [
        {
          "output_type": "stream",
          "text": [
            "\n",
            "-------------------T-Test----------------------------------\n",
            "\n",
            "1. Cases\n",
            "\ta. One Sample Test\n",
            "\t\tNull Hypothesis is NOT Rejected\n",
            "\tb. Two Sample PAIRED Test\n",
            "\t\tNull Hypothesis is NOT Rejected\n",
            "\tb. Two Sample Unpaired Test\n",
            "\t\tNull Hypothesis is NOT Rejected\n",
            "2. Deaths\n",
            "\ta. One Sample Test\n",
            "\t\tNull Hypothesis is NOT Rejected\n",
            "\tb. Two Sample Paired Test\n",
            "\t\tNull Hypothesis is NOT Rejected\n",
            "\tb. Two Sample Unpaired Test\n",
            "\t\tNull Hypothesis is NOT Rejected\n"
          ],
          "name": "stdout"
        }
      ]
    },
    {
      "cell_type": "markdown",
      "metadata": {
        "id": "2at3ss7Eop8F",
        "colab_type": "text"
      },
      "source": [
        "![Walds Test](https://raw.githubusercontent.com/prtsh/CSE-544-Covid19-vs-PresidentialApproval/master/tTestA.jpeg)\n",
        "![Walds Test](https://raw.githubusercontent.com/prtsh/CSE-544-Covid19-vs-PresidentialApproval/master/tTestB.jpeg)"
      ]
    },
    {
      "cell_type": "markdown",
      "metadata": {
        "id": "ohkNI1Yqow8C",
        "colab_type": "text"
      },
      "source": [
        "###**Applicability**\n",
        "####*One Sample*\n",
        "T-Test is applicable here as main objective of one sample t-test is to compare sample mean of one group with an unknown mean\n",
        "####*Two Sample Paired*\n",
        "T-test here for two sample paired is not applicable since we it is not clearly determined whether two sets last week and second last weeks data are dependent on each other or not \n",
        "####*Two Sample UnPaired*\n",
        "T-test here for two sample paired is not applicable since we it is not clearly determined whether two sets last week and second last weeks data are dependent on each other or not"
      ]
    },
    {
      "cell_type": "code",
      "metadata": {
        "id": "ZhuUhJTWJ1fV",
        "colab_type": "code",
        "colab": {}
      },
      "source": [
        "# "
      ],
      "execution_count": 0,
      "outputs": []
    },
    {
      "cell_type": "markdown",
      "metadata": {
        "id": "xO5BKZAwJ2RI",
        "colab_type": "text"
      },
      "source": [
        "#####**3.3** **Application of KS test and Permutation test.**\n",
        "\n"
      ]
    },
    {
      "cell_type": "markdown",
      "metadata": {
        "id": "1JDzYGeuHe6S",
        "colab_type": "text"
      },
      "source": [
        "For Permutation test, 1-sampled KS test and 2-sampled KS test; **the Null Hypotheses is: The distributions of second-last week and last week are same.**"
      ]
    },
    {
      "cell_type": "code",
      "metadata": {
        "id": "oGJdOJIaJzBr",
        "colab_type": "code",
        "colab": {}
      },
      "source": [
        "# Todo\n",
        "def permutation_test(list1, list2, no_permutations):\n",
        "\tN = no_permutations\n",
        "\tT_obs = abs(np.mean(list1) - np.mean(list2))\n",
        "\n",
        "\tcounter = 0\n",
        "\tl1=[]\n",
        "\n",
        "\tfor i in range(N):\n",
        "\t\tlist1_i = np.random.choice(list1 + list2, size = len(list1), replace = False)\n",
        "\t\tlist2_i = np.random.choice(list1 + list2, size = len(list2), replace = False)\n",
        "\t\tlist1_i_mean = np.mean(list1_i)\n",
        "\t\tlist2_i_mean = np.mean(list2_i)\n",
        "\t\tT_i = abs(list1_i_mean - list2_i_mean)\n",
        "\t\tl1.append(T_i)\n",
        "\n",
        "\t\t\n",
        "\t\tif T_i > T_obs:\n",
        "\t\t\tcounter += 1\n",
        "\n",
        "\n",
        "\tp_val = counter/N\n",
        "\treturn p_val"
      ],
      "execution_count": 0,
      "outputs": []
    },
    {
      "cell_type": "code",
      "metadata": {
        "id": "SdCknoXhFur7",
        "colab_type": "code",
        "colab": {}
      },
      "source": [
        "def onesamp_KS_test(data1,data2):\n",
        "\tdata1 = ma.asarray(data1)\n",
        "\tdata2 = ma.asarray(data2)\n",
        "\tn1  = data1.count()\n",
        "\tn2 =  data2.count()\n",
        "\tX = data1.compressed()\n",
        "\tY = data2.compressed()\n",
        "\tmix = ma.concatenate((X, Y))\n",
        "\tmixsort = mix.argsort(kind='mergesort')\n",
        "\tcsum = np.where(mixsort < n1, 1./n1, -1./n2).cumsum()\n",
        "\n",
        "\n",
        "\tlength = len(np.unique(mix))\n",
        "\tif length < (n1+n2):\n",
        "\t    ind = np.r_[np.diff(mix[mixsort]).nonzero()[0], -1]\n",
        "\t    csum = csum[ind]\n",
        "\t    mixsort = mixsort[ind]\n",
        "\n",
        "\tcsumabs = ma.abs(csum)\n",
        "\ti = csumabs.argmax()\n",
        "\n",
        "\td = abs(csum[i])\n",
        "\tx = mix[mixsort[i]]\n",
        "\n",
        "\treturn d, x\n"
      ],
      "execution_count": 0,
      "outputs": []
    },
    {
      "cell_type": "code",
      "metadata": {
        "id": "LOrsWJjTF1iE",
        "colab_type": "code",
        "colab": {}
      },
      "source": [
        "def twosamp_KS_test(data1, data2):\n",
        "\tdata1 = ma.asarray(data1)\n",
        "\tdata2 = ma.asarray(data2)\n",
        "\tn1  = data1.count()\n",
        "\tn2 =  data2.count()\n",
        "\tX = data1.compressed()\n",
        "\tY = data2.compressed()\n",
        "\tmix = ma.concatenate((X, Y))\n",
        "\tmixsort = mix.argsort(kind='mergesort')\n",
        "\tcsum = np.where(mixsort < n1, 1./n1, -1./n2).cumsum()\n",
        "\n",
        "\n",
        "\n",
        "\tlength = len(np.unique(mix))\n",
        "\tif length < (n1+n2):\n",
        "\t    ind = np.r_[np.diff(mix[mixsort]).nonzero()[0], -1]\n",
        "\t    csum = csum[ind]\n",
        "\t    mixsort = mixsort[ind]\n",
        "\n",
        "\tcsumabs = ma.abs(csum)\n",
        "\ti = csumabs.argmax()\n",
        "\n",
        "\td = abs(csum[i])\n",
        "\tx = mix[mixsort[i]]\n",
        "\n",
        "\treturn d, x\n"
      ],
      "execution_count": 0,
      "outputs": []
    },
    {
      "cell_type": "code",
      "metadata": {
        "id": "RjDQqrIdF43Y",
        "colab_type": "code",
        "colab": {}
      },
      "source": [
        "X = dfCovidCDF\n",
        "X_second_last=X[-14:-7]\n",
        "X_last=X[-7:]\n",
        "case1=list(X_second_last['cases'])\n",
        "case2=list(X_last['cases'])\n",
        "death1=list(X_second_last['deaths'])\n",
        "death2=list(X_last['deaths'])\n",
        "\n",
        "# X_pdf = dfCovid\n",
        "# X_second_last_pdf=X_pdf[-14:-7]\n",
        "# X_last_pdf=X_pdf[-7:]\n",
        "# case1_pdf=list(X_second_last_pdf['cases'])\n",
        "# case2_pdf=list(X_last_pdf['cases'])\n",
        "# death1_pdf=list(X_second_last_pdf['deaths'])\n",
        "# death2_pdf=list(X_last_pdf['deaths'])\n"
      ],
      "execution_count": 0,
      "outputs": []
    },
    {
      "cell_type": "code",
      "metadata": {
        "id": "WnC4wiYQF8tD",
        "colab_type": "code",
        "outputId": "0c778bac-3c4c-4461-9741-2b6e9156a5de",
        "colab": {
          "base_uri": "https://localhost:8080/",
          "height": 136
        }
      },
      "source": [
        "# ---------------------------------- Permutation test -----------------------------------------------\n",
        "\n",
        "print(\"Permutation Test\")\n",
        "print(\"-----------  1: cases for N = 20 permutations --------------\")\n",
        "p_value = permutation_test(case1, case2, 20)\n",
        "print(\"p_value  for N = 20 is:\", p_value)\n",
        "if p_value < 0.05:\n",
        " \tprint(\"Null hypothesis is rejected because p_value < 0.05\")\n",
        "else:\n",
        " \tprint(\"Null hypothesis is accepted because p_value > 0.05\")\n",
        "\n",
        "\n",
        "print(\"-----------  2: deaths for N = 20 permutations --------------\")\n",
        "p_value = permutation_test(death1, death2, 20)\n",
        "print(\"p_value for N = 20 is:\", p_value)\n",
        "\n",
        "if p_value < 0.05:\n",
        " \tprint(\"Null hypothesis is rejected because p_value < 0.05\")\n",
        "else:\n",
        " \tprint(\"Null hypothesis is accepted because p_value > 0.05\")\n",
        "\n",
        "\n",
        "  \n"
      ],
      "execution_count": 530,
      "outputs": [
        {
          "output_type": "stream",
          "text": [
            "Permutation Test\n",
            "-----------  1: cases for N = 20 permutations --------------\n",
            "p_value  for N = 20 is: 0.0\n",
            "Null hypothesis is rejected because p_value < 0.05\n",
            "-----------  2: deaths for N = 20 permutations --------------\n",
            "p_value for N = 20 is: 0.0\n",
            "Null hypothesis is rejected because p_value < 0.05\n"
          ],
          "name": "stdout"
        }
      ]
    },
    {
      "cell_type": "code",
      "metadata": {
        "id": "y7qvNX42GBqw",
        "colab_type": "code",
        "outputId": "a8f0d107-d529-47cb-cb48-a3db3b5094a6",
        "colab": {
          "base_uri": "https://localhost:8080/",
          "height": 136
        }
      },
      "source": [
        "\n",
        "# ----------------------------------- 2 Sampled KS Test -----------------------------------------------\n",
        "print(\"2-Sampled KS Test\")\n",
        "print(\"----------------- Case 1: 2 Sampled KS_test for cases -----------------------\")\n",
        "KS_stat, point = twosamp_KS_test(case1, case2)\n",
        "print(\"KS_statistic for case 1 is {} at point X = {} \".format(KS_stat, point))\n",
        "\n",
        "\n",
        "if KS_stat > 0.05:\n",
        " \tprint(\"Null hypothesis is rejected because KS_stat > 0.05\")\n",
        "else:\n",
        " \tprint(\"Null hypothesis is accepted because KS_stat < 0.05\")\n",
        "\n",
        "\n",
        "print(\"----------------- Case 2: 2 Sampled KS_test for deaths -----------------------\")\n",
        "KS_stat, point = twosamp_KS_test(death1, death2)\n",
        "print(\"KS_statistic for case 2 is {} at point X = {} \".format(KS_stat, point))\n",
        "\n",
        "if KS_stat > 0.05:\n",
        " \tprint(\"Null hypothesis is rejected because KS_stat > 0.05\")\n",
        "else:\n",
        " \tprint(\"Null hypothesis is accepted because KS_stat < 0.05\")\n"
      ],
      "execution_count": 531,
      "outputs": [
        {
          "output_type": "stream",
          "text": [
            "2-Sampled KS Test\n",
            "----------------- Case 1: 2 Sampled KS_test for cases -----------------------\n",
            "KS_statistic for case 1 is 0.9999999999999998 at point X = 868019 \n",
            "Null hypothesis is rejected because KS_stat > 0.05\n",
            "----------------- Case 2: 2 Sampled KS_test for deaths -----------------------\n",
            "KS_statistic for case 2 is 0.9999999999999998 at point X = 44516 \n",
            "Null hypothesis is rejected because KS_stat > 0.05\n"
          ],
          "name": "stdout"
        }
      ]
    },
    {
      "cell_type": "markdown",
      "metadata": {
        "id": "Cp1r8HnYe-E1",
        "colab_type": "text"
      },
      "source": [
        "![MME calculation](https://raw.githubusercontent.com/prtsh/CSE-544-Covid19-vs-PresidentialApproval/master/i1.jpeg)\n",
        "\n",
        "![MME calculation](https://raw.githubusercontent.com/prtsh/CSE-544-Covid19-vs-PresidentialApproval/master/i2.jpeg)\n"
      ]
    },
    {
      "cell_type": "code",
      "metadata": {
        "id": "6amWNOP8GC1I",
        "colab_type": "code",
        "outputId": "32f009d7-1949-4aac-c798-bbb9d717a933",
        "colab": {
          "base_uri": "https://localhost:8080/",
          "height": 374
        }
      },
      "source": [
        "\n",
        "  # ----------------------------------- 1 Sampled KS Test -----------------------------------------------\n",
        "print(\"1-Sampled KS Test\")\n",
        "print(\"----------------- Case 1: 1 Sampled KS_test for cases -----------------------\")\n",
        "  \n",
        "##Geometric:\n",
        "MMEparamGeometric_p = len(case1)/sum(case1)\n",
        "print(\"Geometric:\")\n",
        "cdf_geometric=geom.cdf(case1, MMEparamGeometric_p)\n",
        "# print(cdf_geometric)\n",
        "#print(stats.kstest(case2, 'geom', args=(MMEparamGeometric_p)))\n",
        "KS_stat, point = onesamp_KS_test(cdf_geometric, case2)\n",
        "print(\"KS_statistic for case 1 is {} at point X = {} \".format(KS_stat, point))\n",
        "if KS_stat > 0.05:\n",
        "  print(\"Null hypothesis is rejected because KS_stat > 0.05\")\n",
        "else:\n",
        "  print(\"Null hypothesis is accepted because KS_stat < 0.05\")\n",
        "\n",
        "\t##Binomial:\n",
        "MMEparamBinomial_p = sum(case1) / (len(case1) * len(case1))\n",
        "print(\"Binomial:\")\n",
        "cdf_binomial= binom.cdf(case1,len(case1), MMEparamBinomial_p)\n",
        "#print(cdf_binomial)\n",
        "#print(stats.kstest(case2, 'binom', args=(len(case1), MMEparamBinomial_p)))\n",
        "KS_stat, point = onesamp_KS_test(cdf_binomial, case2)\n",
        "print(\"KS_statistic for case 1 is {} at point X = {} \".format(KS_stat, point))\n",
        "if KS_stat > 0.05:\n",
        "  print(\"Null hypothesis is rejected because KS_stat > 0.05\")\n",
        "else:\n",
        "  print(\"Null hypothesis is accepted because KS_stat < 0.05\")\n",
        "\n",
        "##poisson:\n",
        "MMEparamPoisson_lambda = sum(case1) / len(case1)\n",
        "print(\"poisson:\")\n",
        "cdf_poisson=poisson.cdf(case1, MMEparamPoisson_lambda)\n",
        "# print(cdf_poisson)\n",
        "# #print(stats.kstest(case2, 'poisson', args=(MMEparamPoisson_lambda)))\n",
        "KS_stat, point = onesamp_KS_test(cdf_poisson, case2)\n",
        "print(\"KS_statistic for case 1 is {} at point X = {} \".format(KS_stat, point))\n",
        "if KS_stat > 0.05:\n",
        "  print(\"Null hypothesis is rejected because KS_stat > 0.05\")\n",
        "else:\n",
        "  print(\"Null hypothesis is accepted because KS_stat < 0.05\")\n",
        "print(\"----------------- Case 2: 1 Sampled KS_test for deaths -----------------------\")\n",
        "##Geometric:\n",
        "MMEparamGeometric_p = len(death1) / sum(death1)\n",
        "print(\"Geometric:\")\n",
        "cdf_geometric=geom.cdf(death1, MMEparamGeometric_p)\n",
        "# print(cdf_geometric)\n",
        "# print(stats.kstest(death2, 'geom', args=(MMEparamGeometric_p)))\n",
        "KS_stat, point = onesamp_KS_test(cdf_geometric, death2)\n",
        "print(\"KS_statistic for case 1 is {} at point X = {} \".format(KS_stat, point))\n",
        "if KS_stat > 0.05:\n",
        "  print(\"Null hypothesis is rejected because KS_stat > 0.05\")\n",
        "else:\n",
        "  print(\"Null hypothesis is accepted because KS_stat < 0.05\")\n",
        "\n",
        "#Binomial:\n",
        "MMEparamBinomial_p = sum(death1) / (len(death1) * len(death1))\n",
        "print(\"Binomial:\")\n",
        "cdf_binomial=binom.cdf(death1,len(death1), MMEparamBinomial_p)\n",
        "# print(cdf_binomial)\n",
        "# print(stats.kstest(death2, 'binom', args=(len(death1), MMEparamBinomial_p)))\n",
        "KS_stat, point = onesamp_KS_test(cdf_binomial, death2)\n",
        "print(\"KS_statistic for case 1 is {} at point X = {} \".format(KS_stat, point))\n",
        "if KS_stat > 0.05:\n",
        "\tprint(\"Null hypothesis is rejected because KS_stat > 0.05\")\n",
        "else:\n",
        "\tprint(\"Null hypothesis is accepted because KS_stat < 0.05\")\n",
        " ##poisson:\n",
        "MMEparamPoisson_lambda = sum(death1) / len(death1)\n",
        "print(\"poisson:\")\n",
        "cdf_poisson=poisson.cdf(death1, MMEparamPoisson_lambda)\n",
        "# print(cdf_poisson)\n",
        "# #print(stats.kstest(death2, 'poisson', args=(MMEparamPoisson_lambda)))\n",
        "KS_stat, point = onesamp_KS_test(cdf_poisson, death2)\n",
        "print(\"KS_statistic for case 1 is {} at point X = {} \".format(KS_stat, point))\n",
        "if KS_stat > 0.05:\n",
        "\tprint(\"Null hypothesis is rejected because KS_stat > 0.05\")\n",
        "else:\n",
        " \tprint(\"Null hypothesis is accepted because KS_stat < 0.05\")\n",
        "\n"
      ],
      "execution_count": 532,
      "outputs": [
        {
          "output_type": "stream",
          "text": [
            "1-Sampled KS Test\n",
            "----------------- Case 1: 1 Sampled KS_test for cases -----------------------\n",
            "Geometric:\n",
            "KS_statistic for case 1 is 0.9999999999999998 at point X = 0.6707190792564305 \n",
            "Null hypothesis is rejected because KS_stat > 0.05\n",
            "Binomial:\n",
            "KS_statistic for case 1 is 0.9999999999999998 at point X = 1.0 \n",
            "Null hypothesis is rejected because KS_stat > 0.05\n",
            "poisson:\n",
            "KS_statistic for case 1 is 0.9999999999999998 at point X = 1.0 \n",
            "Null hypothesis is rejected because KS_stat > 0.05\n",
            "----------------- Case 2: 1 Sampled KS_test for deaths -----------------------\n",
            "Geometric:\n",
            "KS_statistic for case 1 is 0.9999999999999998 at point X = 0.6861978938306901 \n",
            "Null hypothesis is rejected because KS_stat > 0.05\n",
            "Binomial:\n",
            "KS_statistic for case 1 is 0.9999999999999998 at point X = 1.0 \n",
            "Null hypothesis is rejected because KS_stat > 0.05\n",
            "poisson:\n",
            "KS_statistic for case 1 is 0.9999999999999998 at point X = 1.0 \n",
            "Null hypothesis is rejected because KS_stat > 0.05\n"
          ],
          "name": "stdout"
        }
      ]
    },
    {
      "cell_type": "markdown",
      "metadata": {
        "id": "EzpucBHjJ4aA",
        "colab_type": "text"
      },
      "source": [
        "#####**3.4.** **[Siddhanth]** Report the Pearson correlation value for #deaths and your X dataset, and also for #cases and your X dataset over one month of data. Use the most relevant column in X to compare against the covid numbers.\n"
      ]
    },
    {
      "cell_type": "code",
      "metadata": {
        "id": "2dWrUQaoJ8Jz",
        "colab_type": "code",
        "colab": {}
      },
      "source": [
        "# Todo\n",
        "#X dataset's approval estimates for April\n",
        "Approval_estimates = dfXClean['approve_estimate'].to_list()\n",
        "Approval_estimates = Approval_estimates[71:102]\n",
        "\n",
        "#Covid dataset's #cases for April\n",
        "no_cases = dfCovid['cases'].to_list()\n",
        "no_cases = no_cases[70:]\n",
        "\n",
        "#Covid dataset's #deaths for April\n",
        "no_deaths = dfCovid['deaths'].to_list()\n",
        "no_deaths = no_deaths[70:]"
      ],
      "execution_count": 0,
      "outputs": []
    },
    {
      "cell_type": "code",
      "metadata": {
        "id": "LE6w9klxGxfh",
        "colab_type": "code",
        "colab": {}
      },
      "source": [
        "#Pearson Correlation for Covid #cases vs trump approval ratings for the month of April\n",
        "def pearson(X, Y):\n",
        "  mean1 = sum(X)/len(X)\n",
        "  mean2 = sum(Y)/len(Y)\n",
        "  covariance = 0\n",
        "  std_dev1 = 0\n",
        "  std_dev2 = 0\n",
        "  variance1 = 0\n",
        "  variance2 = 0\n",
        "\n",
        "  #covariance calculation\n",
        "  for i in range(0,len(X)):\n",
        "    covariance += (X[i] - mean1)*(Y[i] - mean2);\n",
        "\n",
        "  #variance of dataset 1\n",
        "  for i in range(0, len(X)):\n",
        "    variance1 += (X[i] - mean1)*(X[i] - mean1);\n",
        "  \n",
        "  #standard deviation of dataset 1\n",
        "  std_dev1 = math.sqrt(variance1)\n",
        "\n",
        "  #variance of dataset 2\n",
        "  for i in range(0, len(Y)):\n",
        "    variance2 += (Y[i] - mean2)*(Y[i] - mean2);\n",
        "  \n",
        "  #standard deviation of dataset 2\n",
        "  std_dev2 = math.sqrt(variance2)\n",
        "\n",
        "  #pearson correlation calculation = covariance/(standard deviation of dataset 1 * standard deviation of dataset 2)\n",
        "  pearson1 = covariance/(std_dev1 * std_dev2)\n",
        "  print(pearson1)"
      ],
      "execution_count": 0,
      "outputs": []
    },
    {
      "cell_type": "code",
      "metadata": {
        "id": "tRE60tBtGxR5",
        "colab_type": "code",
        "outputId": "e1405a43-3d84-44e8-dc31-199ca8d89f95",
        "colab": {
          "base_uri": "https://localhost:8080/",
          "height": 34
        }
      },
      "source": [
        "pearson(Approval_estimates,no_cases)"
      ],
      "execution_count": 535,
      "outputs": [
        {
          "output_type": "stream",
          "text": [
            "0.18652264961497333\n"
          ],
          "name": "stdout"
        }
      ]
    },
    {
      "cell_type": "code",
      "metadata": {
        "id": "bFmDTIZ5GxKf",
        "colab_type": "code",
        "outputId": "57a3a36c-a485-4da6-a4b4-9dc3b7867c2c",
        "colab": {
          "base_uri": "https://localhost:8080/",
          "height": 34
        }
      },
      "source": [
        "pearson(Approval_estimates,no_deaths)"
      ],
      "execution_count": 536,
      "outputs": [
        {
          "output_type": "stream",
          "text": [
            "-0.5777949296329931\n"
          ],
          "name": "stdout"
        }
      ]
    },
    {
      "cell_type": "markdown",
      "metadata": {
        "id": "Uu3XKN8YPmG4",
        "colab_type": "text"
      },
      "source": [
        "1)Thus we can clearly see that the Presidential approval ratings and number of cases of covid19 in March are very weakly **postively** correlated with a pearson correlation value of 0.1865. \n",
        "\n",
        "This shows that the approval ratings for month of april doesn't depend much on the daily number of cases of Covid19\n",
        "\n",
        "2)The Presidential approval ratings and number of deaths due to covid19 in March are strongly **negatively** correlated with a pearson correlation value of -0.577. \n",
        "\n",
        "This correlation value are quite obvious as it is evident if the number of deaths keeps increasing, there is a loss of trust in the president's capability to deal with such a pandemic and thus the approval ratings tend to decrease. The fairly high negative correlation value shows how strongly these are dependent on each other."
      ]
    },
    {
      "cell_type": "markdown",
      "metadata": {
        "id": "pgvWl6_VNHoT",
        "colab_type": "text"
      },
      "source": [
        "#####**3.5.** Assume the daily deaths are Poisson distributed with parameter lambda. Assume an Exponential prior (with mean beta) on lambda. To find beta for the prior, equate the mean of the Exponential prior to that of the Poisson lambda_MME. That is, find the MME of lambda using the first week’s data, and equate this lambda to the mean of Exp(1/beta) to find beta for the prior. Use first week’s data to obtain the posterior for lambda via Bayesian inference. Now, use second week’s data to obtain the new posterior, using prior as posterior after week 1. Repeat till the end of week 4. Plot all posterior distributions on one graph. Report the MAP for all posteriors.\n"
      ]
    },
    {
      "cell_type": "code",
      "metadata": {
        "id": "KeEtfevMNJHM",
        "colab_type": "code",
        "colab": {}
      },
      "source": [
        "# Todo\n",
        "#list of deaths for all months\n",
        "data1 = dfCovid['deaths'].to_list()\n",
        "\n",
        "#list of deaths for month of March(for ease of calculations and decent scale of graph)\n",
        "march_deaths = data1[40:70]"
      ],
      "execution_count": 0,
      "outputs": []
    },
    {
      "cell_type": "code",
      "metadata": {
        "id": "r4BVhvoQKz78",
        "colab_type": "code",
        "colab": {}
      },
      "source": [
        "#Daily deaths for the month of March\n",
        "#Poisson lambda MME is nothing but the mean X-bar of first week of data\n",
        "week1 = march_deaths[:7]\n",
        "mean_week1 = statistics.mean(week1)\n",
        "\n",
        "#Given that we have to equate mean of first week of data to poisson's lambda_mme \n",
        "poisson_lambda_mme = mean_week1\n",
        "\n",
        "#Given we have to equate poisson lambda mme to exponential prior mean beta\n",
        "exp_mean_beta = poisson_lambda_mme"
      ],
      "execution_count": 0,
      "outputs": []
    },
    {
      "cell_type": "code",
      "metadata": {
        "id": "TSgNjrU3K3VY",
        "colab_type": "code",
        "colab": {}
      },
      "source": [
        "#Function to plot gamma distribution\n",
        "def plotgraph(alpha, beta):\n",
        "  plt.figure(figsize = (15, 10))\n",
        "  print(\"\\n\")\n",
        "  for i in range(4):\n",
        "      #setting range for X-axis\n",
        "      x = np.linspace(0, 125, 1000)\n",
        "      \n",
        "      #storing gamma distribution values for x, alpha and beta, iteration wise\n",
        "      y = stats.gamma.pdf(x, alpha[i], scale = 1/beta[i])\n",
        "      \n",
        "      #MAP of posterior\n",
        "      max_x = x[y.argmax()]\n",
        "\n",
        "      #plot X against Y\n",
        "      plt.plot(x, y, label='Iteration:{}'.format(i+1), linewidth=2)\n",
        "      print(\"Iteration: {} Estimated Posterior's MAP: {}\".format(i+1, max_x))\n",
        "  \n",
        "  plt.title('Posterior Estimation')\n",
        "  plt.ylabel('probability density', fontsize=14)\n",
        "  plt.xlabel('', fontsize=14)\n",
        "  plt.legend(loc='upper right')\n",
        "  plt.show()\n",
        "    \n",
        "def BayesianInference(data):\n",
        "  #inital prior is an exponential with lambda_exp = lambda and mean = beta_exp\n",
        "  gamma_alpha   = [None for _ in range(4)]\n",
        "  gamma_beta = [None for _ in range(4)]\n",
        "  sum_data = 0\n",
        "  \n",
        "  for i in range(4):\n",
        "\n",
        "    #Sum of data will include week1 data for 1st iteration, week1 + week2 data for 2nd iteration and so on\n",
        "    for j in data[:(i+1)*7]:\n",
        "      sum_data += j\n",
        "    \n",
        "    #To set prior for next iteration\n",
        "    #alpha = summation_from_1_to_n(data) + 1, n keeps updating iteration wise\n",
        "    gamma_alpha[i] = sum_data + 1;\n",
        "    \n",
        "    #beta = n + 1/beta_of_exponential, n keeps updating iteration wise\n",
        "    gamma_beta[i] = ((i+1)*7) + (1/exp_mean_beta);\n",
        "  \n",
        "    print(\"Iteration: {} Estimated Posterior's alpha: {}, beta: {}\".format(i+1, gamma_alpha[i], gamma_beta[i]))\n",
        "  \n",
        "  plotgraph(gamma_alpha, gamma_beta)"
      ],
      "execution_count": 0,
      "outputs": []
    },
    {
      "cell_type": "code",
      "metadata": {
        "id": "xnc4scGqK3Qc",
        "colab_type": "code",
        "outputId": "c63c98d2-c7ca-4fb0-81ad-842c24b339cf",
        "colab": {
          "base_uri": "https://localhost:8080/",
          "height": 777
        }
      },
      "source": [
        "#call function and plot graph\n",
        "BayesianInference(march_deaths)"
      ],
      "execution_count": 540,
      "outputs": [
        {
          "output_type": "stream",
          "text": [
            "Iteration: 1 Estimated Posterior's alpha: 19.0, beta: 7.388888888888889\n",
            "Iteration: 2 Estimated Posterior's alpha: 76.0, beta: 14.38888888888889\n",
            "Iteration: 3 Estimated Posterior's alpha: 500.0, beta: 21.38888888888889\n",
            "Iteration: 4 Estimated Posterior's alpha: 2976.0, beta: 28.38888888888889\n",
            "\n",
            "\n",
            "Iteration: 1 Estimated Posterior's MAP: 2.3773773773773774\n",
            "Iteration: 2 Estimated Posterior's MAP: 5.255255255255256\n",
            "Iteration: 3 Estimated Posterior's MAP: 23.273273273273276\n",
            "Iteration: 4 Estimated Posterior's MAP: 104.85485485485486\n"
          ],
          "name": "stdout"
        },
        {
          "output_type": "display_data",
          "data": {
            "image/png": "[encoded data removed]",
            "text/plain": [
              "<Figure size 1080x720 with 1 Axes>"
            ]
          },
          "metadata": {
            "tags": [],
            "needs_background": "light"
          }
        }
      ]
    },
    {
      "cell_type": "markdown",
      "metadata": {
        "id": "rwAfZLMyRnQO",
        "colab_type": "text"
      },
      "source": [
        "We can observe from the graph that the variance does not change much over the posterior estimations. Only the mean increases as the weeks progress and new data is observed. \n",
        "\n",
        "When we solve the equation in the problem statement to obtain posterior for lambda, we observe that it is proportional to a gamma distribution with parameters alpha and beta given by\n",
        "\n",
        "**Alpha** = summation_from_1_to_n(data) + 1\n",
        "\n",
        "**Beta** = n + 1/beta_of_exponential_prior \n",
        "\n",
        "A more detailed solving of how alpha and beta are obtained is attached below:-\n"
      ]
    },
    {
      "cell_type": "markdown",
      "metadata": {
        "id": "6lCbIKZJahsm",
        "colab_type": "text"
      },
      "source": [
        "![Working](https://raw.githubusercontent.com/prtsh/CSE-544-Covid19-vs-PresidentialApproval/master/IMG_20200512_154142.jpg)"
      ]
    },
    {
      "cell_type": "markdown",
      "metadata": {
        "id": "CjaiiwnHKBNZ",
        "colab_type": "text"
      },
      "source": [
        "####**4. Sample Inferences** \n",
        "**For each inference you propose, provide a paragraph of text to explain why this inference is practical and useful. Also comment on the results of your inference, as appropriate. See “Sample inferences” section below for ideas.**"
      ]
    },
    {
      "cell_type": "markdown",
      "metadata": {
        "id": "L9DdR-_mKRVW",
        "colab_type": "text"
      },
      "source": [
        "#####**4.1.**  Check if COVID19 data changed after some local event or rule was enforced, like lockdown or stay-at-home, etc. For this, compare COVID19 data before and after the event. Maybe take into account that COVID19 takes some time to show symptoms, so maybe give some time to allow the lockdown to show its effects.\n"
      ]
    },
    {
      "cell_type": "markdown",
      "metadata": {
        "id": "C6V9GpjkSmzZ",
        "colab_type": "text"
      },
      "source": [
        "We check using Permutation test and 2-sampled KS test if the distribution of cases and deaths are same. We consider data from 01/21/2020 to 03/15/2020 as pre-lockdown and from 04/01/2020 to 04/30/2020 as post-lockdown.\n",
        "Here, we have kept a 15 day gap (from 03/15 to 03/30) to allow the lockdown to show its effects; since COVID19 takes some time to show its symptoms; **the Null Hypotheses is: The distributions (both number of cases and number of deaths) of pre-lockdown and post-lockdown are same.**"
      ]
    },
    {
      "cell_type": "code",
      "metadata": {
        "id": "WAlpXjGbKR3f",
        "colab_type": "code",
        "colab": {}
      },
      "source": [
        "# Todo\n",
        "# Todo\n",
        "X = dfCovidCDF\n",
        "X_pre_lockdown = X[0:55]\n",
        "X_post_lockdown = X[-30:]\n",
        "case_1 = list(X_pre_lockdown['cases'])\n",
        "case_2 = list(X_post_lockdown['cases'])\n",
        "death_1 = list(X_pre_lockdown['deaths'])\n",
        "death_2 = list(X_post_lockdown['deaths'])\n",
        "\n",
        "# X_pdf = dfCovid\n",
        "# X_pre_lockdown_pdf = X_pdf[0:55]\n",
        "# X_post_lockdown_pdf = X_pdf[-30:]\n",
        "# case_1_pdf = list(X_pre_lockdown_pdf['cases'])\n",
        "# case_2_pdf = list(X_post_lockdown_pdf['cases'])\n",
        "# death_1_pdf = list(X_pre_lockdown_pdf['deaths'])\n",
        "# death_2_pdf = list(X_post_lockdown_pdf['deaths'])\n",
        "\n"
      ],
      "execution_count": 0,
      "outputs": []
    },
    {
      "cell_type": "code",
      "metadata": {
        "id": "CE18mqGRGeFI",
        "colab_type": "code",
        "outputId": "b1d3ab50-f6b4-473a-caec-e4f35eaa7a77",
        "colab": {
          "base_uri": "https://localhost:8080/",
          "height": 136
        }
      },
      "source": [
        "# ---------------------------------- Permutation test -----------------------------------------------\n",
        "\n",
        "print(\"Permutation Test\")\n",
        "print(\"-----------  1: cases for N = 20 permutations --------------\")\n",
        "p_value = permutation_test(case_1, case_2, 20)\n",
        "# print(case_1)\n",
        "print(\"p_value  for N = 20 is:\", p_value)\n",
        "if p_value < 0.05:\n",
        " \tprint(\"Null hypothesis is rejected because p_value < 0.05\")\n",
        "else:\n",
        " \tprint(\"Null hypothesis is accepted because p_value > 0.05\")\n",
        "\n",
        "\n",
        "print(\"-----------  2: deaths for N = 20 permutations --------------\")\n",
        "p_value = permutation_test(death_1, death_2, 20)\n",
        "print(\"p_value for N = 20 is:\", p_value)\n",
        "\n",
        "if p_value < 0.05:\n",
        " \tprint(\"Null hypothesis is rejected because p_value < 0.05\")\n",
        "else:\n",
        " \tprint(\"Null hypothesis is accepted because p_value > 0.05\")\n",
        "\n",
        "\n",
        "  \n"
      ],
      "execution_count": 542,
      "outputs": [
        {
          "output_type": "stream",
          "text": [
            "Permutation Test\n",
            "-----------  1: cases for N = 20 permutations --------------\n",
            "p_value  for N = 20 is: 0.0\n",
            "Null hypothesis is rejected because p_value < 0.05\n",
            "-----------  2: deaths for N = 20 permutations --------------\n",
            "p_value for N = 20 is: 0.0\n",
            "Null hypothesis is rejected because p_value < 0.05\n"
          ],
          "name": "stdout"
        }
      ]
    },
    {
      "cell_type": "code",
      "metadata": {
        "id": "XCEK_98sGl0V",
        "colab_type": "code",
        "outputId": "a3f8328d-7d3e-4a53-befe-caab15c724ad",
        "colab": {
          "base_uri": "https://localhost:8080/",
          "height": 136
        }
      },
      "source": [
        "\n",
        "# ----------------------------------- 2 Sampled KS Test -----------------------------------------------\n",
        "print(\"2-Sampled KS Test\")\n",
        "print(\"----------------- Case 1: 2 Sampled KS_test for cases -----------------------\")\n",
        "KS_stat, point = twosamp_KS_test(case_1, case_2)\n",
        "print(\"KS_statistic for case 1 is {} at point X = {} \".format(KS_stat, point))\n",
        "\n",
        "\n",
        "if KS_stat > 0.05:\n",
        " \tprint(\"Null hypothesis is rejected because KS_stat > 0.05\")\n",
        "else:\n",
        " \tprint(\"Null hypothesis is accepted because KS_stat < 0.05\")\n",
        "\n",
        "\n",
        "print(\"----------------- Case 2: 2 Sampled KS_test for deaths -----------------------\")\n",
        "KS_stat, point = twosamp_KS_test(death_1, death_2)\n",
        "print(\"KS_statistic for case 2 is {} at point X = {} \".format(KS_stat, point))\n",
        "\n",
        "if KS_stat > 0.05:\n",
        " \tprint(\"Null hypothesis is rejected because KS_stat > 0.05\")\n",
        "else:\n",
        " \tprint(\"Null hypothesis is accepted because KS_stat < 0.05\")\n"
      ],
      "execution_count": 543,
      "outputs": [
        {
          "output_type": "stream",
          "text": [
            "2-Sampled KS Test\n",
            "----------------- Case 1: 2 Sampled KS_test for cases -----------------------\n",
            "KS_statistic for case 1 is 1.0000000000000002 at point X = 3600 \n",
            "Null hypothesis is rejected because KS_stat > 0.05\n",
            "----------------- Case 2: 2 Sampled KS_test for deaths -----------------------\n",
            "KS_statistic for case 2 is 1.0000000000000002 at point X = 68 \n",
            "Null hypothesis is rejected because KS_stat > 0.05\n"
          ],
          "name": "stdout"
        }
      ]
    },
    {
      "cell_type": "markdown",
      "metadata": {
        "id": "stV3GhwkKXHA",
        "colab_type": "text"
      },
      "source": [
        "#####**4.2.**Use Chi-square independence test to check if COVID19 impacted your X dataset in some way.\n",
        "\n",
        "Data taken in the last 30 days where the fluctuations in Approval rating and the\n",
        "covid cases are observed.\n",
        "Converting the time series data by applying following transformation:\n",
        "\n",
        "**Categories 1** | count of Approval higher than median, Approval Lower than median\n",
        "\n",
        "**Categories 2** | count Cases Higher than median , Cases lower than median\n",
        "\n",
        "\n",
        "**Null Hypothesis : Approval rating is independent of the case count**\n",
        "\n",
        "\n",
        "The chi value obtained is 6.01. The degree of freedom is 1.\n",
        "The P-Value is .013518. The result is significant at p < .05.\n",
        "Hence we reject the Null Hypothesis - **Approval rating is independent of the case count**\n",
        "\n",
        "The same is true for the Null hypothesis - **Approval rating is independent of the Death count**\n",
        "\n",
        "This shows us that the Trump's approval rating and the increase in the Covid Cases are not independent in the last 6 weeks!\n",
        "\n"
      ]
    },
    {
      "cell_type": "code",
      "metadata": {
        "id": "sQenaWUeM14u",
        "colab_type": "code",
        "colab": {}
      },
      "source": [
        "from numpy import median\n",
        "#function to find relation count between two datasets\n",
        "def findrelation(mode1, data1, mode2, data2): \n",
        "  #cases, rating, high, high\n",
        "  median1  = median(data1)\n",
        "  median2  = median(data2)\n",
        "  relationCount = 0;\n",
        "  obs1 = [0]*len(data1); obs2 = [0]*len(data2);\n",
        "  for i in range(0, len(data1)):\n",
        "    if mode1 == \"high\":\n",
        "      obs1[i] = int(data1[i] > median1)\n",
        "    else:\n",
        "      obs1[i] = int(data1[i] < median1)\n",
        "    if mode2 == \"high\":\n",
        "      obs2[i] = int(data2[i] > median2)\n",
        "    else:\n",
        "      obs2[i] = int(data2[i] < median2)\n",
        "\n",
        "  # find intersection of the two lists, and return, \n",
        "  # this gives us count relation when both variables are higher than median\n",
        "  # or when both variables are lower than median\n",
        "  for i in range(len(data1)):\n",
        "    if obs1[i] == 1 and obs2[i] == 1:\n",
        "      relationCount +=1;\n",
        "  return relationCount\n"
      ],
      "execution_count": 0,
      "outputs": []
    },
    {
      "cell_type": "code",
      "metadata": {
        "id": "y7lFlAXrdoX-",
        "colab_type": "code",
        "outputId": "2f0e0cfd-b7d6-4748-95e8-66bf898c4938",
        "colab": {
          "base_uri": "https://localhost:8080/",
          "height": 34
        }
      },
      "source": [
        "\n",
        "#----------------------------------DATA Processing----------------------------------------------------\n",
        "approval_rating = list(dfX['approve_estimate'])[-45:-1]\n",
        "cases = list(dfCovid['cases'])[-45:-1]\n",
        "deaths = list(dfCovid['deaths'])[-45:-1]\n",
        "\n",
        "median_rating = median(approval_rating)\n",
        "median_cases  = median(cases)\n",
        "median_deaths = median(deaths)\n",
        "\n",
        "print(median_rating, median_cases, median_deaths);\n",
        "\n",
        "#find count of each Variables, for observation, not used in caluations\n",
        "HighRating = [i for i in approval_rating if i > median_rating]\n",
        "HighRatingCount = len(HighRating)\n",
        "\n",
        "LowRating = [i for i in approval_rating if i <= median_rating]\n",
        "LowRatingCount = len(LowRating)\n",
        "\n",
        "HighCases = [i for i in cases if i > median_cases]\n",
        "HighCasesCount = len(HighCases)\n",
        "\n",
        "LowCases = [i for i in cases if i <= median_cases]\n",
        "LowCasesCount = len(LowCases)\n",
        "\n",
        "HighDeaths = [i for i in deaths if i > median_deaths]\n",
        "HighDeathsCount = len(HighDeaths)\n",
        "\n",
        "LowDeaths = [i for i in deaths if i <= median_deaths]\n",
        "LowDeathsCount = len(LowDeaths)"
      ],
      "execution_count": 545,
      "outputs": [
        {
          "output_type": "stream",
          "text": [
            "43.324428999999995 26448.0 1366.5\n"
          ],
          "name": "stdout"
        }
      ]
    },
    {
      "cell_type": "code",
      "metadata": {
        "id": "u_p6o45udtFF",
        "colab_type": "code",
        "outputId": "e078a09b-e6b8-4be3-e7dd-12be613af7ed",
        "colab": {
          "base_uri": "https://localhost:8080/",
          "height": 51
        }
      },
      "source": [
        "#Cases and Ratings\n",
        "\n",
        "# Observations (cases and ratings)\n",
        "o_HighCasesHighRating = findrelation(\"high\", cases, \"high\", approval_rating);\n",
        "o_HighCasesLowRating = findrelation(\"high\", cases, \"low\", approval_rating);\n",
        "o_LowCasesHighRating = findrelation(\"low\", cases, \"high\", approval_rating);\n",
        "o_LowCasesLowRating  = findrelation(\"low\", cases, \"low\", approval_rating);\n",
        "print(o_HighCasesHighRating, o_HighCasesLowRating, o_LowCasesHighRating, o_LowCasesLowRating) \n",
        "\n",
        "highcases = o_HighCasesHighRating + o_HighCasesLowRating\n",
        "lowcases = o_LowCasesHighRating + o_LowCasesLowRating\n",
        "highrating = o_HighCasesHighRating +  o_LowCasesHighRating\n",
        "lowrating = o_HighCasesLowRating +  o_LowCasesLowRating;\n",
        "\n",
        "totalsum = highcases + lowcases\n",
        "\n",
        "#expected\n",
        "e_HighCasesHighRating = highrating*highcases/totalsum;\n",
        "e_HighCasesLowRating = lowrating*highcases/totalsum;\n",
        "e_LowCasesHighRating = lowcases*highrating/totalsum;\n",
        "e_LowCasesLowRating = lowcases*lowrating/totalsum;\n",
        "\n",
        "# Chi Sq = sum of ((observed - expected)^2)/expected\n",
        "\n",
        "Chi_Sq1  = ((o_HighCasesHighRating - e_HighCasesHighRating)**2)/e_HighCasesHighRating;\n",
        "Chi_Sq1 += ((o_HighCasesLowRating - e_HighCasesLowRating)**2)/e_HighCasesLowRating;\n",
        "Chi_Sq1 += ((o_LowCasesHighRating - e_LowCasesHighRating)**2)/e_LowCasesHighRating;\n",
        "Chi_Sq1 += ((o_LowCasesLowRating- e_LowCasesLowRating)**2)/e_LowCasesLowRating;\n",
        "\n",
        "print(\"Chi Square value for Cases and Approval Rating, \",Chi_Sq1);"
      ],
      "execution_count": 546,
      "outputs": [
        {
          "output_type": "stream",
          "text": [
            "15 7 6 14\n",
            "Chi Square value for Cases and Approval Rating,  6.109090909090909\n"
          ],
          "name": "stdout"
        }
      ]
    },
    {
      "cell_type": "code",
      "metadata": {
        "id": "QoM0kprDd0ha",
        "colab_type": "code",
        "outputId": "0fbf181e-ed5a-40aa-921e-eb7900cb4a28",
        "colab": {
          "base_uri": "https://localhost:8080/",
          "height": 34
        }
      },
      "source": [
        "#Cases Approval and Deaths\n",
        "\n",
        "# Observations (cases and ratings)\n",
        "o_HighCasesHighRating = findrelation(\"high\", deaths, \"high\", approval_rating);\n",
        "o_HighCasesLowRating = findrelation(\"high\", deaths, \"low\", approval_rating);\n",
        "o_LowCasesHighRating = findrelation(\"low\", deaths, \"high\", approval_rating);\n",
        "o_LowCasesLowRating  = findrelation(\"low\", deaths, \"low\", approval_rating);\n",
        "\n",
        "highcases = o_HighCasesHighRating + o_HighCasesLowRating\n",
        "lowcases = o_LowCasesHighRating + o_LowCasesLowRating\n",
        "highrating = o_HighCasesHighRating +  o_LowCasesHighRating\n",
        "lowrating = o_HighCasesLowRating +  o_LowCasesLowRating;\n",
        "\n",
        "totalsum = highcases + lowcases\n",
        "\n",
        "#expected\n",
        "e_HighCasesHighRating = highrating*highcases/totalsum;\n",
        "e_HighCasesLowRating = lowrating*highcases/totalsum;\n",
        "e_LowCasesHighRating = lowcases*highrating/totalsum;\n",
        "e_LowCasesLowRating = lowcases*lowrating/totalsum;\n",
        "\n",
        "# Chi Sq = sum of ((observed - expected)^2)/expected\n",
        "\n",
        "Chi_Sq1  = ((o_HighCasesHighRating - e_HighCasesHighRating)**2)/e_HighCasesHighRating;\n",
        "Chi_Sq1 += ((o_HighCasesLowRating - e_HighCasesLowRating)**2)/e_HighCasesLowRating;\n",
        "Chi_Sq1 += ((o_LowCasesHighRating - e_LowCasesHighRating)**2)/e_LowCasesHighRating;\n",
        "Chi_Sq1 += ((o_LowCasesLowRating- e_LowCasesLowRating)**2)/e_LowCasesLowRating;\n",
        "\n",
        "print(\"Chi Square value for Cases and Approval Rating, \",Chi_Sq1);"
      ],
      "execution_count": 547,
      "outputs": [
        {
          "output_type": "stream",
          "text": [
            "Chi Square value for Cases and Approval Rating,  6.109090909090909\n"
          ],
          "name": "stdout"
        }
      ]
    },
    {
      "cell_type": "markdown",
      "metadata": {
        "id": "njzqZvu3Kb6R",
        "colab_type": "text"
      },
      "source": [
        "#####**4.3.**\n",
        "Repeat inference 3.2 above but for equality of distributions (distribution of X and Covid Data), using K-S test and Permutation test.\n",
        "\n",
        "We ran the KS test and the permutation tests on the Covid dataset and the X (approval rating dataset)\n",
        "\n",
        "**The Null hypothesis is that both dataset comes from the same distirbution.**\n",
        "\n",
        "The results are -\n",
        "Permutation Test\n",
        "\n",
        "-----------  1: cases for N = 20 permutations --------------\n",
        "\n",
        "p_value  for N = 20 is: 0.0\n",
        "\n",
        "Null hypothesis is rejected because p_value < 0.05\n",
        "\n",
        "-----------  2: deaths for N = 20 permutations --------------\n",
        "\n",
        "p_value for N = 20 is: 0.0\n",
        "\n",
        "Null hypothesis is rejected because p_value < 0.05\n",
        "\n",
        "\n",
        "\n",
        "2-Sampled KS Test\n",
        "\n",
        "----------------- Case 1: 2 Sampled KS_test for cases -------------------\n",
        "\n",
        "\n",
        "KS_statistic for case 1 is 0.5252525252525254 at point X = 0.06669400027333607 \n",
        "\n",
        "Null hypothesis is rejected because KS_stat > 0.05\n",
        "\n",
        "----------------- Case 2: 2 Sampled KS_test for deaths ------------------\n",
        "\n",
        "KS_statistic for case 2 is 0.5858585858585857 at point X = 0.07179690598968663 \n",
        "\n",
        "Null hypothesis is rejected because KS_stat > 0.05\n"
      ]
    },
    {
      "cell_type": "code",
      "metadata": {
        "id": "ZNv27QzxRgiF",
        "colab_type": "code",
        "colab": {}
      },
      "source": [
        "#----------------------------------DATA Processing----------------------------------------------------\n",
        "approval_rating = dfX['approve_estimate'].iloc[::-1][-99:].values.reshape(-1,1)\n",
        "Acases = dfCovid['cases'][-99:].values.reshape(-1,1)\n",
        "Adeaths = dfCovid['deaths'][-99:].values.reshape(-1,1)\n",
        "\n",
        "# print(Acases)\n",
        "\n",
        "from sklearn import preprocessing\n",
        "min_max_scaler = preprocessing.MinMaxScaler()\n",
        "\n",
        "approval_rating_scaled = min_max_scaler.fit_transform(approval_rating).flatten()\n",
        "cases_scaled = min_max_scaler.fit_transform(Acases).flatten()\n",
        "deaths_scaled = min_max_scaler.fit_transform(Adeaths).flatten()\n",
        "# print(cases_scaled)"
      ],
      "execution_count": 0,
      "outputs": []
    },
    {
      "cell_type": "code",
      "metadata": {
        "id": "uIgNZ7fdlLqz",
        "colab_type": "code",
        "outputId": "16005ecf-955b-493e-ad1f-8f83e35611a5",
        "colab": {
          "base_uri": "https://localhost:8080/",
          "height": 136
        }
      },
      "source": [
        "# ---------------------------------- Permutation test -----------------------------------------------\n",
        "\n",
        "print(\"Permutation Test\")\n",
        "print(\"-----------  1: cases for N = 20 permutations --------------\")\n",
        "p_value = permutation_test(cases_scaled, approval_rating_scaled, 20)\n",
        "print(\"p_value  for N = 20 is:\", p_value)\n",
        "if p_value < 0.05:\n",
        " \tprint(\"Null hypothesis is rejected because p_value < 0.05\")\n",
        "else:\n",
        " \tprint(\"Null hypothesis is accepted because p_value > 0.05\")\n",
        "\n",
        "\n",
        "print(\"-----------  2: deaths for N = 20 permutations --------------\")\n",
        "p_value = permutation_test(deaths_scaled, approval_rating_scaled, 20)\n",
        "print(\"p_value for N = 20 is:\", p_value)\n",
        "\n",
        "if p_value < 0.05:\n",
        " \tprint(\"Null hypothesis is rejected because p_value < 0.05\")\n",
        "else:\n",
        " \tprint(\"Null hypothesis is accepted because p_value > 0.05\")"
      ],
      "execution_count": 549,
      "outputs": [
        {
          "output_type": "stream",
          "text": [
            "Permutation Test\n",
            "-----------  1: cases for N = 20 permutations --------------\n",
            "p_value  for N = 20 is: 0.0\n",
            "Null hypothesis is rejected because p_value < 0.05\n",
            "-----------  2: deaths for N = 20 permutations --------------\n",
            "p_value for N = 20 is: 0.0\n",
            "Null hypothesis is rejected because p_value < 0.05\n"
          ],
          "name": "stdout"
        }
      ]
    },
    {
      "cell_type": "code",
      "metadata": {
        "id": "nkDuM5HVSGBV",
        "colab_type": "code",
        "outputId": "b2103510-44a3-46fb-c212-f87cee45d260",
        "colab": {
          "base_uri": "https://localhost:8080/",
          "height": 136
        }
      },
      "source": [
        "#------------------------------------KS Test------------------------------------\n",
        "print(\"2-Sampled KS Test\")\n",
        "print(\"----------------- Case 1: 2 Sampled KS_test for cases -------------------\")\n",
        "KS_stat, point = twosamp_KS_test(cases_scaled, approval_rating_scaled)\n",
        "print(\"KS_statistic for case 1 is {} at point X = {} \".format(KS_stat, point))\n",
        "\n",
        "\n",
        "if KS_stat > 0.05:\n",
        " \tprint(\"Null hypothesis is rejected because KS_stat > 0.05\")\n",
        "else:\n",
        " \tprint(\"Null hypothesis is accepted because KS_stat < 0.05\")\n",
        "\n",
        "\n",
        "print(\"----------------- Case 2: 2 Sampled KS_test for deaths ------------------\")\n",
        "KS_stat, point = twosamp_KS_test(deaths_scaled, approval_rating_scaled)\n",
        "print(\"KS_statistic for case 2 is {} at point X = {} \".format(KS_stat, point))\n",
        "\n",
        "if KS_stat > 0.05:\n",
        " \tprint(\"Null hypothesis is rejected because KS_stat > 0.05\")\n",
        "else:\n",
        " \tprint(\"Null hypothesis is accepted because KS_stat < 0.05\")\n"
      ],
      "execution_count": 550,
      "outputs": [
        {
          "output_type": "stream",
          "text": [
            "2-Sampled KS Test\n",
            "----------------- Case 1: 2 Sampled KS_test for cases -------------------\n",
            "KS_statistic for case 1 is 0.5252525252525254 at point X = 0.06669400027333607 \n",
            "Null hypothesis is rejected because KS_stat > 0.05\n",
            "----------------- Case 2: 2 Sampled KS_test for deaths ------------------\n",
            "KS_statistic for case 2 is 0.5858585858585857 at point X = 0.07179690598968663 \n",
            "Null hypothesis is rejected because KS_stat > 0.05\n"
          ],
          "name": "stdout"
        }
      ]
    }
  ]
}